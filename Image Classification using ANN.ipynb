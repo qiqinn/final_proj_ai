{
 "cells": [
  {
   "cell_type": "code",
   "execution_count": 1,
   "metadata": {},
   "outputs": [],
   "source": [
    "from sklearn.model_selection import train_test_split\n",
    "from sklearn.preprocessing import LabelEncoder\n",
    "from sklearn.metrics import classification_report\n",
    "from tensorflow.keras.models import Sequential\n",
    "from tensorflow.keras.layers import Flatten, Dense\n",
    "from tensorflow.keras.optimizers import SGD\n",
    "import numpy as np\n",
    "import cv2\n",
    "import glob\n",
    "import matplotlib.pyplot as plt"
   ]
  },
  {
   "cell_type": "code",
   "execution_count": 2,
   "metadata": {},
   "outputs": [],
   "source": [
    "imagePaths = 'Dataset\\\\'\n",
    "label_list = ['Nangka', 'Pepaya']\n",
    "data = []\n",
    "labels = []\n",
    "\n"
   ]
  },
  {
   "cell_type": "code",
   "execution_count": 3,
   "metadata": {},
   "outputs": [],
   "source": [
    "for label in label_list:\n",
    "    for imagePath in glob.glob(imagePaths+label+'\\\\*.jpg'):\n",
    "        #print(imagePath)\n",
    "        image = cv2.imread(imagePath)\n",
    "        image = cv2.resize(image, (32, 32))\n",
    "        data.append(image)\n",
    "        labels.append(label)"
   ]
  },
  {
   "cell_type": "code",
   "execution_count": 4,
   "metadata": {},
   "outputs": [
    {
     "data": {
      "text/plain": [
       "(100, 32, 32, 3)"
      ]
     },
     "execution_count": 4,
     "metadata": {},
     "output_type": "execute_result"
    }
   ],
   "source": [
    "np.array(data).shape"
   ]
  },
  {
   "cell_type": "code",
   "execution_count": 5,
   "metadata": {},
   "outputs": [],
   "source": [
    "# ubah type data dari list menjadi array\n",
    "# ubah nilai dari tiap pixel menjadi range [0..1]\n",
    "data = np.array(data, dtype='float') / 255.0\n",
    "labels = np.array(labels)"
   ]
  },
  {
   "cell_type": "code",
   "execution_count": 6,
   "metadata": {},
   "outputs": [
    {
     "name": "stdout",
     "output_type": "stream",
     "text": [
      "['Nangka' 'Nangka' 'Nangka' 'Nangka' 'Nangka' 'Nangka' 'Nangka' 'Nangka'\n",
      " 'Nangka' 'Nangka' 'Nangka' 'Nangka' 'Nangka' 'Nangka' 'Nangka' 'Nangka'\n",
      " 'Nangka' 'Nangka' 'Nangka' 'Nangka' 'Nangka' 'Nangka' 'Nangka' 'Nangka'\n",
      " 'Nangka' 'Nangka' 'Nangka' 'Nangka' 'Nangka' 'Nangka' 'Nangka' 'Nangka'\n",
      " 'Nangka' 'Nangka' 'Nangka' 'Nangka' 'Nangka' 'Nangka' 'Nangka' 'Nangka'\n",
      " 'Nangka' 'Nangka' 'Nangka' 'Nangka' 'Nangka' 'Nangka' 'Nangka' 'Nangka'\n",
      " 'Nangka' 'Nangka' 'Pepaya' 'Pepaya' 'Pepaya' 'Pepaya' 'Pepaya' 'Pepaya'\n",
      " 'Pepaya' 'Pepaya' 'Pepaya' 'Pepaya' 'Pepaya' 'Pepaya' 'Pepaya' 'Pepaya'\n",
      " 'Pepaya' 'Pepaya' 'Pepaya' 'Pepaya' 'Pepaya' 'Pepaya' 'Pepaya' 'Pepaya'\n",
      " 'Pepaya' 'Pepaya' 'Pepaya' 'Pepaya' 'Pepaya' 'Pepaya' 'Pepaya' 'Pepaya'\n",
      " 'Pepaya' 'Pepaya' 'Pepaya' 'Pepaya' 'Pepaya' 'Pepaya' 'Pepaya' 'Pepaya'\n",
      " 'Pepaya' 'Pepaya' 'Pepaya' 'Pepaya' 'Pepaya' 'Pepaya' 'Pepaya' 'Pepaya'\n",
      " 'Pepaya' 'Pepaya' 'Pepaya' 'Pepaya']\n"
     ]
    }
   ],
   "source": [
    "print(labels)"
   ]
  },
  {
   "cell_type": "code",
   "execution_count": 7,
   "metadata": {},
   "outputs": [
    {
     "name": "stdout",
     "output_type": "stream",
     "text": [
      "[0 0 0 0 0 0 0 0 0 0 0 0 0 0 0 0 0 0 0 0 0 0 0 0 0 0 0 0 0 0 0 0 0 0 0 0 0\n",
      " 0 0 0 0 0 0 0 0 0 0 0 0 0 1 1 1 1 1 1 1 1 1 1 1 1 1 1 1 1 1 1 1 1 1 1 1 1\n",
      " 1 1 1 1 1 1 1 1 1 1 1 1 1 1 1 1 1 1 1 1 1 1 1 1 1 1]\n"
     ]
    }
   ],
   "source": [
    "lb = LabelEncoder()\n",
    "labels = lb.fit_transform(labels)\n",
    "print(labels)"
   ]
  },
  {
   "cell_type": "code",
   "execution_count": 8,
   "metadata": {},
   "outputs": [],
   "source": [
    "x_train, x_test, y_train, y_test = train_test_split(data, labels, test_size=0.2, random_state=42)"
   ]
  },
  {
   "cell_type": "code",
   "execution_count": 9,
   "metadata": {},
   "outputs": [
    {
     "name": "stdout",
     "output_type": "stream",
     "text": [
      "Ukuran data train = (80, 32, 32, 3)\n",
      "Ukuran data test = (20, 32, 32, 3)\n"
     ]
    }
   ],
   "source": [
    "print('Ukuran data train =', x_train.shape)\n",
    "print('Ukuran data test =', x_test.shape)"
   ]
  },
  {
   "cell_type": "code",
   "execution_count": 10,
   "metadata": {},
   "outputs": [],
   "source": [
    "model = Sequential()\n",
    "model.add(Flatten(input_shape=(32,32,3)))\n",
    "model.add(Dense(1024, activation=\"relu\"))\n",
    "model.add(Dense(1024, activation=\"relu\"))\n",
    "model.add(Dense(1, activation=\"sigmoid\"))"
   ]
  },
  {
   "cell_type": "code",
   "execution_count": 11,
   "metadata": {},
   "outputs": [
    {
     "name": "stdout",
     "output_type": "stream",
     "text": [
      "Model: \"sequential\"\n",
      "_________________________________________________________________\n",
      " Layer (type)                Output Shape              Param #   \n",
      "=================================================================\n",
      " flatten (Flatten)           (None, 3072)              0         \n",
      "                                                                 \n",
      " dense (Dense)               (None, 1024)              3146752   \n",
      "                                                                 \n",
      " dense_1 (Dense)             (None, 1024)              1049600   \n",
      "                                                                 \n",
      " dense_2 (Dense)             (None, 1)                 1025      \n",
      "                                                                 \n",
      "=================================================================\n",
      "Total params: 4,197,377\n",
      "Trainable params: 4,197,377\n",
      "Non-trainable params: 0\n",
      "_________________________________________________________________\n"
     ]
    }
   ],
   "source": [
    "model.summary()"
   ]
  },
  {
   "cell_type": "code",
   "execution_count": 12,
   "metadata": {},
   "outputs": [],
   "source": [
    "# tentukan hyperparameter\n",
    "lr = 0.01\n",
    "max_epochs = 200\n",
    "opt_funct = SGD(learning_rate=lr)"
   ]
  },
  {
   "cell_type": "code",
   "execution_count": 13,
   "metadata": {},
   "outputs": [],
   "source": [
    "# compile arsitektur yang telah dibuat\n",
    "model.compile(loss = 'binary_crossentropy', \n",
    "              optimizer = opt_funct, \n",
    "              metrics = ['accuracy'])"
   ]
  },
  {
   "cell_type": "code",
   "execution_count": 14,
   "metadata": {},
   "outputs": [
    {
     "name": "stdout",
     "output_type": "stream",
     "text": [
      "Epoch 1/200\n",
      "3/3 [==============================] - 1s 96ms/step - loss: 0.7539 - accuracy: 0.4500 - val_loss: 0.6822 - val_accuracy: 0.6000\n",
      "Epoch 2/200\n",
      "3/3 [==============================] - 0s 28ms/step - loss: 0.9231 - accuracy: 0.5000 - val_loss: 0.6030 - val_accuracy: 0.9500\n",
      "Epoch 3/200\n",
      "3/3 [==============================] - 0s 32ms/step - loss: 0.6238 - accuracy: 0.6750 - val_loss: 0.7028 - val_accuracy: 0.6000\n",
      "Epoch 4/200\n",
      "3/3 [==============================] - 0s 32ms/step - loss: 0.6581 - accuracy: 0.5625 - val_loss: 0.7012 - val_accuracy: 0.4000\n",
      "Epoch 5/200\n",
      "3/3 [==============================] - 0s 36ms/step - loss: 0.6670 - accuracy: 0.5125 - val_loss: 0.5037 - val_accuracy: 0.6000\n",
      "Epoch 6/200\n",
      "3/3 [==============================] - 0s 36ms/step - loss: 0.6112 - accuracy: 0.5000 - val_loss: 0.5821 - val_accuracy: 0.6500\n",
      "Epoch 7/200\n",
      "3/3 [==============================] - 0s 32ms/step - loss: 0.4732 - accuracy: 0.8625 - val_loss: 0.4286 - val_accuracy: 0.9000\n",
      "Epoch 8/200\n",
      "3/3 [==============================] - 0s 40ms/step - loss: 0.4628 - accuracy: 0.8500 - val_loss: 0.4209 - val_accuracy: 0.9500\n",
      "Epoch 9/200\n",
      "3/3 [==============================] - 0s 40ms/step - loss: 0.4291 - accuracy: 0.9125 - val_loss: 0.5057 - val_accuracy: 0.6000\n",
      "Epoch 10/200\n",
      "3/3 [==============================] - 0s 44ms/step - loss: 0.7114 - accuracy: 0.5000 - val_loss: 0.7686 - val_accuracy: 0.4000\n",
      "Epoch 11/200\n",
      "3/3 [==============================] - 0s 40ms/step - loss: 0.5829 - accuracy: 0.6000 - val_loss: 0.3803 - val_accuracy: 0.9500\n",
      "Epoch 12/200\n",
      "3/3 [==============================] - 0s 28ms/step - loss: 0.4553 - accuracy: 0.8500 - val_loss: 0.5998 - val_accuracy: 0.6000\n",
      "Epoch 13/200\n",
      "3/3 [==============================] - 0s 36ms/step - loss: 0.5674 - accuracy: 0.6000 - val_loss: 0.7176 - val_accuracy: 0.4500\n",
      "Epoch 14/200\n",
      "3/3 [==============================] - 0s 36ms/step - loss: 0.4651 - accuracy: 0.8000 - val_loss: 0.3481 - val_accuracy: 0.9000\n",
      "Epoch 15/200\n",
      "3/3 [==============================] - 0s 28ms/step - loss: 0.3595 - accuracy: 0.9250 - val_loss: 0.3376 - val_accuracy: 0.9000\n",
      "Epoch 16/200\n",
      "3/3 [==============================] - 0s 32ms/step - loss: 0.3662 - accuracy: 0.9125 - val_loss: 0.3277 - val_accuracy: 0.9500\n",
      "Epoch 17/200\n",
      "3/3 [==============================] - 0s 32ms/step - loss: 0.3312 - accuracy: 0.9125 - val_loss: 0.5035 - val_accuracy: 0.6000\n",
      "Epoch 18/200\n",
      "3/3 [==============================] - 0s 36ms/step - loss: 0.4914 - accuracy: 0.7000 - val_loss: 0.3499 - val_accuracy: 0.9500\n",
      "Epoch 19/200\n",
      "3/3 [==============================] - 0s 36ms/step - loss: 0.3557 - accuracy: 0.8625 - val_loss: 0.3068 - val_accuracy: 0.9000\n",
      "Epoch 20/200\n",
      "3/3 [==============================] - 0s 40ms/step - loss: 0.4590 - accuracy: 0.7625 - val_loss: 0.4645 - val_accuracy: 0.7500\n",
      "Epoch 21/200\n",
      "3/3 [==============================] - 0s 36ms/step - loss: 0.6109 - accuracy: 0.6375 - val_loss: 0.2850 - val_accuracy: 0.9500\n",
      "Epoch 22/200\n",
      "3/3 [==============================] - 0s 32ms/step - loss: 0.3123 - accuracy: 0.9125 - val_loss: 0.3043 - val_accuracy: 0.9500\n",
      "Epoch 23/200\n",
      "3/3 [==============================] - 0s 36ms/step - loss: 0.3303 - accuracy: 0.8875 - val_loss: 0.3336 - val_accuracy: 0.8000\n",
      "Epoch 24/200\n",
      "3/3 [==============================] - 0s 44ms/step - loss: 0.2880 - accuracy: 0.9250 - val_loss: 0.2584 - val_accuracy: 1.0000\n",
      "Epoch 25/200\n",
      "3/3 [==============================] - 0s 48ms/step - loss: 0.2731 - accuracy: 0.9625 - val_loss: 0.3325 - val_accuracy: 0.8000\n",
      "Epoch 26/200\n",
      "3/3 [==============================] - 0s 36ms/step - loss: 0.2930 - accuracy: 0.9125 - val_loss: 0.2758 - val_accuracy: 0.9000\n",
      "Epoch 27/200\n",
      "3/3 [==============================] - 0s 32ms/step - loss: 0.3598 - accuracy: 0.8250 - val_loss: 0.2582 - val_accuracy: 0.9500\n",
      "Epoch 28/200\n",
      "3/3 [==============================] - 0s 36ms/step - loss: 0.2590 - accuracy: 0.9250 - val_loss: 0.2471 - val_accuracy: 0.9500\n",
      "Epoch 29/200\n",
      "3/3 [==============================] - 0s 32ms/step - loss: 0.3046 - accuracy: 0.8250 - val_loss: 0.2269 - val_accuracy: 0.9500\n",
      "Epoch 30/200\n",
      "3/3 [==============================] - 0s 32ms/step - loss: 0.2416 - accuracy: 0.9500 - val_loss: 0.3057 - val_accuracy: 0.8000\n",
      "Epoch 31/200\n",
      "3/3 [==============================] - 0s 28ms/step - loss: 0.3837 - accuracy: 0.8000 - val_loss: 0.2530 - val_accuracy: 0.9500\n",
      "Epoch 32/200\n",
      "3/3 [==============================] - 0s 32ms/step - loss: 0.2864 - accuracy: 0.9125 - val_loss: 0.2572 - val_accuracy: 0.9000\n",
      "Epoch 33/200\n",
      "3/3 [==============================] - 0s 32ms/step - loss: 0.2536 - accuracy: 0.9125 - val_loss: 0.4641 - val_accuracy: 0.6000\n",
      "Epoch 34/200\n",
      "3/3 [==============================] - 0s 32ms/step - loss: 0.3097 - accuracy: 0.8750 - val_loss: 0.3138 - val_accuracy: 0.9000\n",
      "Epoch 35/200\n",
      "3/3 [==============================] - 0s 36ms/step - loss: 0.2872 - accuracy: 0.8750 - val_loss: 0.3201 - val_accuracy: 0.8000\n",
      "Epoch 36/200\n",
      "3/3 [==============================] - 0s 40ms/step - loss: 0.4968 - accuracy: 0.6875 - val_loss: 0.2577 - val_accuracy: 0.9000\n",
      "Epoch 37/200\n",
      "3/3 [==============================] - 0s 36ms/step - loss: 0.2612 - accuracy: 0.9250 - val_loss: 0.2022 - val_accuracy: 0.9500\n",
      "Epoch 38/200\n",
      "3/3 [==============================] - 0s 32ms/step - loss: 0.2188 - accuracy: 0.9625 - val_loss: 0.2468 - val_accuracy: 0.9000\n",
      "Epoch 39/200\n",
      "3/3 [==============================] - 0s 32ms/step - loss: 0.2132 - accuracy: 0.9375 - val_loss: 0.2694 - val_accuracy: 0.9000\n",
      "Epoch 40/200\n",
      "3/3 [==============================] - 0s 40ms/step - loss: 0.3217 - accuracy: 0.8250 - val_loss: 0.2859 - val_accuracy: 0.9000\n",
      "Epoch 41/200\n",
      "3/3 [==============================] - 0s 32ms/step - loss: 0.2836 - accuracy: 0.8875 - val_loss: 0.2106 - val_accuracy: 0.9500\n",
      "Epoch 42/200\n",
      "3/3 [==============================] - 0s 32ms/step - loss: 0.1956 - accuracy: 0.9750 - val_loss: 0.3117 - val_accuracy: 0.9000\n",
      "Epoch 43/200\n",
      "3/3 [==============================] - 0s 32ms/step - loss: 0.4027 - accuracy: 0.7625 - val_loss: 0.2735 - val_accuracy: 0.9000\n",
      "Epoch 44/200\n",
      "3/3 [==============================] - 0s 32ms/step - loss: 0.2237 - accuracy: 0.9375 - val_loss: 0.1906 - val_accuracy: 0.9500\n",
      "Epoch 45/200\n",
      "3/3 [==============================] - 0s 36ms/step - loss: 0.1990 - accuracy: 0.9375 - val_loss: 0.1809 - val_accuracy: 0.9500\n",
      "Epoch 46/200\n",
      "3/3 [==============================] - 0s 40ms/step - loss: 0.1779 - accuracy: 0.9500 - val_loss: 0.1884 - val_accuracy: 1.0000\n",
      "Epoch 47/200\n",
      "3/3 [==============================] - 0s 40ms/step - loss: 0.1976 - accuracy: 0.9375 - val_loss: 0.1776 - val_accuracy: 0.9500\n",
      "Epoch 48/200\n",
      "3/3 [==============================] - 0s 28ms/step - loss: 0.1934 - accuracy: 0.9500 - val_loss: 0.1789 - val_accuracy: 1.0000\n",
      "Epoch 49/200\n",
      "3/3 [==============================] - 0s 36ms/step - loss: 0.1990 - accuracy: 0.9500 - val_loss: 0.1779 - val_accuracy: 0.9500\n",
      "Epoch 50/200\n",
      "3/3 [==============================] - 0s 36ms/step - loss: 0.2103 - accuracy: 0.9000 - val_loss: 0.2295 - val_accuracy: 0.9000\n",
      "Epoch 51/200\n",
      "3/3 [==============================] - 0s 36ms/step - loss: 0.1679 - accuracy: 0.9875 - val_loss: 0.1581 - val_accuracy: 1.0000\n",
      "Epoch 52/200\n",
      "3/3 [==============================] - 0s 32ms/step - loss: 0.1813 - accuracy: 0.9500 - val_loss: 0.3423 - val_accuracy: 0.8000\n",
      "Epoch 53/200\n",
      "3/3 [==============================] - 0s 32ms/step - loss: 0.3093 - accuracy: 0.8375 - val_loss: 0.2622 - val_accuracy: 0.9000\n",
      "Epoch 54/200\n",
      "3/3 [==============================] - 0s 32ms/step - loss: 0.2651 - accuracy: 0.9000 - val_loss: 0.3848 - val_accuracy: 0.7500\n",
      "Epoch 55/200\n",
      "3/3 [==============================] - 0s 36ms/step - loss: 0.3706 - accuracy: 0.7875 - val_loss: 0.1643 - val_accuracy: 0.9500\n",
      "Epoch 56/200\n",
      "3/3 [==============================] - 0s 32ms/step - loss: 0.1900 - accuracy: 0.9250 - val_loss: 0.1486 - val_accuracy: 1.0000\n",
      "Epoch 57/200\n",
      "3/3 [==============================] - 0s 36ms/step - loss: 0.1454 - accuracy: 0.9875 - val_loss: 0.1831 - val_accuracy: 0.9500\n",
      "Epoch 58/200\n",
      "3/3 [==============================] - 0s 36ms/step - loss: 0.1534 - accuracy: 0.9625 - val_loss: 0.2926 - val_accuracy: 0.8500\n",
      "Epoch 59/200\n"
     ]
    },
    {
     "name": "stdout",
     "output_type": "stream",
     "text": [
      "3/3 [==============================] - 0s 36ms/step - loss: 0.1579 - accuracy: 0.9625 - val_loss: 0.1489 - val_accuracy: 1.0000\n",
      "Epoch 60/200\n",
      "3/3 [==============================] - 0s 32ms/step - loss: 0.1438 - accuracy: 0.9875 - val_loss: 0.5139 - val_accuracy: 0.6000\n",
      "Epoch 61/200\n",
      "3/3 [==============================] - 0s 32ms/step - loss: 0.2868 - accuracy: 0.8500 - val_loss: 0.1677 - val_accuracy: 0.9500\n",
      "Epoch 62/200\n",
      "3/3 [==============================] - 0s 32ms/step - loss: 0.1341 - accuracy: 0.9875 - val_loss: 0.1437 - val_accuracy: 1.0000\n",
      "Epoch 63/200\n",
      "3/3 [==============================] - 0s 32ms/step - loss: 0.1331 - accuracy: 0.9875 - val_loss: 0.1350 - val_accuracy: 1.0000\n",
      "Epoch 64/200\n",
      "3/3 [==============================] - 0s 32ms/step - loss: 0.1382 - accuracy: 0.9875 - val_loss: 0.1365 - val_accuracy: 0.9500\n",
      "Epoch 65/200\n",
      "3/3 [==============================] - 0s 32ms/step - loss: 0.1306 - accuracy: 0.9500 - val_loss: 0.1375 - val_accuracy: 1.0000\n",
      "Epoch 66/200\n",
      "3/3 [==============================] - 0s 32ms/step - loss: 0.1913 - accuracy: 0.9000 - val_loss: 0.1303 - val_accuracy: 1.0000\n",
      "Epoch 67/200\n",
      "3/3 [==============================] - 0s 48ms/step - loss: 0.1332 - accuracy: 0.9750 - val_loss: 0.1287 - val_accuracy: 0.9500\n",
      "Epoch 68/200\n",
      "3/3 [==============================] - 0s 48ms/step - loss: 0.1276 - accuracy: 0.9750 - val_loss: 0.2751 - val_accuracy: 0.9000\n",
      "Epoch 69/200\n",
      "3/3 [==============================] - 0s 40ms/step - loss: 0.3099 - accuracy: 0.8375 - val_loss: 0.1730 - val_accuracy: 0.9500\n",
      "Epoch 70/200\n",
      "3/3 [==============================] - 0s 44ms/step - loss: 0.1136 - accuracy: 0.9875 - val_loss: 0.1287 - val_accuracy: 0.9500\n",
      "Epoch 71/200\n",
      "3/3 [==============================] - 0s 44ms/step - loss: 0.1196 - accuracy: 0.9875 - val_loss: 0.1432 - val_accuracy: 0.9500\n",
      "Epoch 72/200\n",
      "3/3 [==============================] - 0s 44ms/step - loss: 0.1415 - accuracy: 0.9375 - val_loss: 0.1439 - val_accuracy: 0.9500\n",
      "Epoch 73/200\n",
      "3/3 [==============================] - 0s 36ms/step - loss: 0.1283 - accuracy: 0.9750 - val_loss: 0.1304 - val_accuracy: 0.9500\n",
      "Epoch 74/200\n",
      "3/3 [==============================] - 0s 32ms/step - loss: 0.1166 - accuracy: 1.0000 - val_loss: 0.1572 - val_accuracy: 0.9000\n",
      "Epoch 75/200\n",
      "3/3 [==============================] - 0s 32ms/step - loss: 0.2282 - accuracy: 0.8875 - val_loss: 0.1692 - val_accuracy: 0.9500\n",
      "Epoch 76/200\n",
      "3/3 [==============================] - 0s 40ms/step - loss: 0.1185 - accuracy: 0.9625 - val_loss: 0.1361 - val_accuracy: 1.0000\n",
      "Epoch 77/200\n",
      "3/3 [==============================] - 0s 36ms/step - loss: 0.1255 - accuracy: 0.9875 - val_loss: 0.1462 - val_accuracy: 0.9000\n",
      "Epoch 78/200\n",
      "3/3 [==============================] - 0s 36ms/step - loss: 0.1674 - accuracy: 0.9125 - val_loss: 0.1138 - val_accuracy: 1.0000\n",
      "Epoch 79/200\n",
      "3/3 [==============================] - 0s 32ms/step - loss: 0.0974 - accuracy: 0.9875 - val_loss: 0.1302 - val_accuracy: 1.0000\n",
      "Epoch 80/200\n",
      "3/3 [==============================] - 0s 36ms/step - loss: 0.1100 - accuracy: 0.9875 - val_loss: 0.1121 - val_accuracy: 1.0000\n",
      "Epoch 81/200\n",
      "3/3 [==============================] - 0s 32ms/step - loss: 0.0939 - accuracy: 0.9875 - val_loss: 0.1198 - val_accuracy: 1.0000\n",
      "Epoch 82/200\n",
      "3/3 [==============================] - 0s 36ms/step - loss: 0.0996 - accuracy: 1.0000 - val_loss: 0.1169 - val_accuracy: 1.0000\n",
      "Epoch 83/200\n",
      "3/3 [==============================] - 0s 36ms/step - loss: 0.2112 - accuracy: 0.8625 - val_loss: 0.9622 - val_accuracy: 0.6500\n",
      "Epoch 84/200\n",
      "3/3 [==============================] - 0s 44ms/step - loss: 0.5478 - accuracy: 0.8000 - val_loss: 0.1782 - val_accuracy: 0.9500\n",
      "Epoch 85/200\n",
      "3/3 [==============================] - 0s 40ms/step - loss: 0.1139 - accuracy: 0.9750 - val_loss: 0.1132 - val_accuracy: 1.0000\n",
      "Epoch 86/200\n",
      "3/3 [==============================] - 0s 36ms/step - loss: 0.1529 - accuracy: 0.9500 - val_loss: 0.2861 - val_accuracy: 0.9000\n",
      "Epoch 87/200\n",
      "3/3 [==============================] - 0s 40ms/step - loss: 0.1591 - accuracy: 0.9500 - val_loss: 0.1110 - val_accuracy: 1.0000\n",
      "Epoch 88/200\n",
      "3/3 [==============================] - 0s 36ms/step - loss: 0.0870 - accuracy: 1.0000 - val_loss: 0.1082 - val_accuracy: 1.0000\n",
      "Epoch 89/200\n",
      "3/3 [==============================] - 0s 32ms/step - loss: 0.0874 - accuracy: 0.9875 - val_loss: 0.1059 - val_accuracy: 1.0000\n",
      "Epoch 90/200\n",
      "3/3 [==============================] - 0s 32ms/step - loss: 0.0849 - accuracy: 0.9875 - val_loss: 0.1587 - val_accuracy: 0.9500\n",
      "Epoch 91/200\n",
      "3/3 [==============================] - 0s 36ms/step - loss: 0.1104 - accuracy: 0.9875 - val_loss: 0.1052 - val_accuracy: 1.0000\n",
      "Epoch 92/200\n",
      "3/3 [==============================] - 0s 36ms/step - loss: 0.0997 - accuracy: 1.0000 - val_loss: 0.1695 - val_accuracy: 0.9500\n",
      "Epoch 93/200\n",
      "3/3 [==============================] - 0s 44ms/step - loss: 0.0820 - accuracy: 0.9875 - val_loss: 0.1019 - val_accuracy: 1.0000\n",
      "Epoch 94/200\n",
      "3/3 [==============================] - 0s 40ms/step - loss: 0.1160 - accuracy: 0.9750 - val_loss: 0.1014 - val_accuracy: 1.0000\n",
      "Epoch 95/200\n",
      "3/3 [==============================] - 0s 36ms/step - loss: 0.0798 - accuracy: 0.9875 - val_loss: 0.1202 - val_accuracy: 1.0000\n",
      "Epoch 96/200\n",
      "3/3 [==============================] - 0s 48ms/step - loss: 0.0796 - accuracy: 0.9875 - val_loss: 0.1750 - val_accuracy: 0.9000\n",
      "Epoch 97/200\n",
      "3/3 [==============================] - 0s 40ms/step - loss: 0.0893 - accuracy: 0.9875 - val_loss: 0.0965 - val_accuracy: 1.0000\n",
      "Epoch 98/200\n",
      "3/3 [==============================] - 0s 36ms/step - loss: 0.0890 - accuracy: 0.9875 - val_loss: 0.0962 - val_accuracy: 1.0000\n",
      "Epoch 99/200\n",
      "3/3 [==============================] - 0s 40ms/step - loss: 0.0701 - accuracy: 1.0000 - val_loss: 0.1031 - val_accuracy: 1.0000\n",
      "Epoch 100/200\n",
      "3/3 [==============================] - 0s 32ms/step - loss: 0.1225 - accuracy: 0.9625 - val_loss: 0.4594 - val_accuracy: 0.8000\n",
      "Epoch 101/200\n",
      "3/3 [==============================] - 0s 32ms/step - loss: 0.8300 - accuracy: 0.6375 - val_loss: 1.3775 - val_accuracy: 0.6000\n",
      "Epoch 102/200\n",
      "3/3 [==============================] - 0s 36ms/step - loss: 0.7809 - accuracy: 0.7500 - val_loss: 0.1374 - val_accuracy: 1.0000\n",
      "Epoch 103/200\n",
      "3/3 [==============================] - 0s 36ms/step - loss: 0.0990 - accuracy: 1.0000 - val_loss: 0.1070 - val_accuracy: 1.0000\n",
      "Epoch 104/200\n",
      "3/3 [==============================] - 0s 36ms/step - loss: 0.0821 - accuracy: 0.9875 - val_loss: 0.1150 - val_accuracy: 1.0000\n",
      "Epoch 105/200\n",
      "3/3 [==============================] - 0s 40ms/step - loss: 0.0829 - accuracy: 0.9875 - val_loss: 0.1006 - val_accuracy: 1.0000\n",
      "Epoch 106/200\n",
      "3/3 [==============================] - 0s 40ms/step - loss: 0.0770 - accuracy: 1.0000 - val_loss: 0.0975 - val_accuracy: 1.0000\n",
      "Epoch 107/200\n",
      "3/3 [==============================] - 0s 44ms/step - loss: 0.0777 - accuracy: 1.0000 - val_loss: 0.1047 - val_accuracy: 0.9500\n",
      "Epoch 108/200\n",
      "3/3 [==============================] - 0s 40ms/step - loss: 0.0994 - accuracy: 1.0000 - val_loss: 0.1119 - val_accuracy: 0.9500\n",
      "Epoch 109/200\n",
      "3/3 [==============================] - 0s 36ms/step - loss: 0.0741 - accuracy: 0.9750 - val_loss: 0.1198 - val_accuracy: 1.0000\n",
      "Epoch 110/200\n",
      "3/3 [==============================] - 0s 36ms/step - loss: 0.0726 - accuracy: 0.9875 - val_loss: 0.1613 - val_accuracy: 0.9500\n",
      "Epoch 111/200\n",
      "3/3 [==============================] - 0s 36ms/step - loss: 0.0815 - accuracy: 0.9875 - val_loss: 0.0907 - val_accuracy: 1.0000\n",
      "Epoch 112/200\n",
      "3/3 [==============================] - 0s 36ms/step - loss: 0.0735 - accuracy: 1.0000 - val_loss: 0.0917 - val_accuracy: 1.0000\n",
      "Epoch 113/200\n",
      "3/3 [==============================] - 0s 40ms/step - loss: 0.0798 - accuracy: 1.0000 - val_loss: 0.0915 - val_accuracy: 1.0000\n",
      "Epoch 114/200\n",
      "3/3 [==============================] - 0s 36ms/step - loss: 0.0615 - accuracy: 1.0000 - val_loss: 0.1241 - val_accuracy: 0.9500\n",
      "Epoch 115/200\n",
      "3/3 [==============================] - 0s 48ms/step - loss: 0.0796 - accuracy: 1.0000 - val_loss: 0.0940 - val_accuracy: 1.0000\n",
      "Epoch 116/200\n",
      "3/3 [==============================] - 0s 48ms/step - loss: 0.0589 - accuracy: 1.0000 - val_loss: 0.0865 - val_accuracy: 1.0000\n",
      "Epoch 117/200\n"
     ]
    },
    {
     "name": "stdout",
     "output_type": "stream",
     "text": [
      "3/3 [==============================] - 0s 48ms/step - loss: 0.0580 - accuracy: 0.9875 - val_loss: 0.1052 - val_accuracy: 1.0000\n",
      "Epoch 118/200\n",
      "3/3 [==============================] - 0s 48ms/step - loss: 0.0739 - accuracy: 1.0000 - val_loss: 0.0853 - val_accuracy: 1.0000\n",
      "Epoch 119/200\n",
      "3/3 [==============================] - 0s 44ms/step - loss: 0.0597 - accuracy: 1.0000 - val_loss: 0.0840 - val_accuracy: 1.0000\n",
      "Epoch 120/200\n",
      "3/3 [==============================] - 0s 44ms/step - loss: 0.0768 - accuracy: 1.0000 - val_loss: 0.0917 - val_accuracy: 1.0000\n",
      "Epoch 121/200\n",
      "3/3 [==============================] - 0s 40ms/step - loss: 0.0573 - accuracy: 1.0000 - val_loss: 0.0865 - val_accuracy: 1.0000\n",
      "Epoch 122/200\n",
      "3/3 [==============================] - 0s 36ms/step - loss: 0.0525 - accuracy: 1.0000 - val_loss: 0.0835 - val_accuracy: 1.0000\n",
      "Epoch 123/200\n",
      "3/3 [==============================] - 0s 40ms/step - loss: 0.0514 - accuracy: 1.0000 - val_loss: 0.0916 - val_accuracy: 1.0000\n",
      "Epoch 124/200\n",
      "3/3 [==============================] - 0s 44ms/step - loss: 0.0515 - accuracy: 1.0000 - val_loss: 0.0839 - val_accuracy: 1.0000\n",
      "Epoch 125/200\n",
      "3/3 [==============================] - 0s 48ms/step - loss: 0.0603 - accuracy: 1.0000 - val_loss: 0.0797 - val_accuracy: 1.0000\n",
      "Epoch 126/200\n",
      "3/3 [==============================] - 0s 36ms/step - loss: 0.0574 - accuracy: 1.0000 - val_loss: 0.1085 - val_accuracy: 1.0000\n",
      "Epoch 127/200\n",
      "3/3 [==============================] - 0s 36ms/step - loss: 0.0584 - accuracy: 1.0000 - val_loss: 0.2437 - val_accuracy: 0.9000\n",
      "Epoch 128/200\n",
      "3/3 [==============================] - 0s 36ms/step - loss: 0.0862 - accuracy: 0.9875 - val_loss: 0.0907 - val_accuracy: 1.0000\n",
      "Epoch 129/200\n",
      "3/3 [==============================] - 0s 36ms/step - loss: 0.0485 - accuracy: 1.0000 - val_loss: 0.1292 - val_accuracy: 0.9500\n",
      "Epoch 130/200\n",
      "3/3 [==============================] - 0s 40ms/step - loss: 0.0628 - accuracy: 1.0000 - val_loss: 0.0918 - val_accuracy: 1.0000\n",
      "Epoch 131/200\n",
      "3/3 [==============================] - 0s 36ms/step - loss: 0.0444 - accuracy: 1.0000 - val_loss: 0.0774 - val_accuracy: 1.0000\n",
      "Epoch 132/200\n",
      "3/3 [==============================] - 0s 32ms/step - loss: 0.0555 - accuracy: 0.9875 - val_loss: 0.0765 - val_accuracy: 1.0000\n",
      "Epoch 133/200\n",
      "3/3 [==============================] - 0s 36ms/step - loss: 0.0436 - accuracy: 1.0000 - val_loss: 0.0782 - val_accuracy: 1.0000\n",
      "Epoch 134/200\n",
      "3/3 [==============================] - 0s 35ms/step - loss: 0.0446 - accuracy: 1.0000 - val_loss: 0.1502 - val_accuracy: 0.9500\n",
      "Epoch 135/200\n",
      "3/3 [==============================] - 0s 32ms/step - loss: 0.0553 - accuracy: 1.0000 - val_loss: 0.0945 - val_accuracy: 0.9500\n",
      "Epoch 136/200\n",
      "3/3 [==============================] - 0s 36ms/step - loss: 0.0554 - accuracy: 0.9875 - val_loss: 0.0744 - val_accuracy: 1.0000\n",
      "Epoch 137/200\n",
      "3/3 [==============================] - 0s 40ms/step - loss: 0.0460 - accuracy: 1.0000 - val_loss: 0.0742 - val_accuracy: 1.0000\n",
      "Epoch 138/200\n",
      "3/3 [==============================] - 0s 36ms/step - loss: 0.0452 - accuracy: 1.0000 - val_loss: 0.0786 - val_accuracy: 1.0000\n",
      "Epoch 139/200\n",
      "3/3 [==============================] - 0s 40ms/step - loss: 0.0469 - accuracy: 1.0000 - val_loss: 0.0926 - val_accuracy: 0.9500\n",
      "Epoch 140/200\n",
      "3/3 [==============================] - 0s 40ms/step - loss: 0.0520 - accuracy: 1.0000 - val_loss: 0.0864 - val_accuracy: 1.0000\n",
      "Epoch 141/200\n",
      "3/3 [==============================] - 0s 36ms/step - loss: 0.0387 - accuracy: 1.0000 - val_loss: 0.0738 - val_accuracy: 1.0000\n",
      "Epoch 142/200\n",
      "3/3 [==============================] - 0s 32ms/step - loss: 0.0376 - accuracy: 1.0000 - val_loss: 0.0921 - val_accuracy: 1.0000\n",
      "Epoch 143/200\n",
      "3/3 [==============================] - 0s 32ms/step - loss: 0.0385 - accuracy: 1.0000 - val_loss: 0.0738 - val_accuracy: 1.0000\n",
      "Epoch 144/200\n",
      "3/3 [==============================] - 0s 36ms/step - loss: 0.0367 - accuracy: 1.0000 - val_loss: 0.0700 - val_accuracy: 1.0000\n",
      "Epoch 145/200\n",
      "3/3 [==============================] - 0s 36ms/step - loss: 0.0383 - accuracy: 1.0000 - val_loss: 0.0718 - val_accuracy: 1.0000\n",
      "Epoch 146/200\n",
      "3/3 [==============================] - 0s 36ms/step - loss: 0.0517 - accuracy: 1.0000 - val_loss: 0.0722 - val_accuracy: 1.0000\n",
      "Epoch 147/200\n",
      "3/3 [==============================] - 0s 36ms/step - loss: 0.0411 - accuracy: 1.0000 - val_loss: 0.0687 - val_accuracy: 1.0000\n",
      "Epoch 148/200\n",
      "3/3 [==============================] - 0s 32ms/step - loss: 0.0372 - accuracy: 1.0000 - val_loss: 0.0724 - val_accuracy: 1.0000\n",
      "Epoch 149/200\n",
      "3/3 [==============================] - 0s 28ms/step - loss: 0.0351 - accuracy: 1.0000 - val_loss: 0.0723 - val_accuracy: 1.0000\n",
      "Epoch 150/200\n",
      "3/3 [==============================] - 0s 32ms/step - loss: 0.0345 - accuracy: 1.0000 - val_loss: 0.0752 - val_accuracy: 1.0000\n",
      "Epoch 151/200\n",
      "3/3 [==============================] - 0s 32ms/step - loss: 0.0329 - accuracy: 1.0000 - val_loss: 0.0700 - val_accuracy: 1.0000\n",
      "Epoch 152/200\n",
      "3/3 [==============================] - 0s 32ms/step - loss: 0.0454 - accuracy: 1.0000 - val_loss: 0.0671 - val_accuracy: 1.0000\n",
      "Epoch 153/200\n",
      "3/3 [==============================] - 0s 32ms/step - loss: 0.0334 - accuracy: 1.0000 - val_loss: 0.0715 - val_accuracy: 1.0000\n",
      "Epoch 154/200\n",
      "3/3 [==============================] - 0s 32ms/step - loss: 0.0325 - accuracy: 1.0000 - val_loss: 0.0661 - val_accuracy: 1.0000\n",
      "Epoch 155/200\n",
      "3/3 [==============================] - 0s 28ms/step - loss: 0.0326 - accuracy: 1.0000 - val_loss: 0.0698 - val_accuracy: 1.0000\n",
      "Epoch 156/200\n",
      "3/3 [==============================] - 0s 32ms/step - loss: 0.0328 - accuracy: 1.0000 - val_loss: 0.0752 - val_accuracy: 1.0000\n",
      "Epoch 157/200\n",
      "3/3 [==============================] - 0s 32ms/step - loss: 0.0333 - accuracy: 1.0000 - val_loss: 0.0660 - val_accuracy: 1.0000\n",
      "Epoch 158/200\n",
      "3/3 [==============================] - 0s 32ms/step - loss: 0.0334 - accuracy: 1.0000 - val_loss: 0.0653 - val_accuracy: 1.0000\n",
      "Epoch 159/200\n",
      "3/3 [==============================] - 0s 32ms/step - loss: 0.0361 - accuracy: 1.0000 - val_loss: 0.0651 - val_accuracy: 1.0000\n",
      "Epoch 160/200\n",
      "3/3 [==============================] - 0s 32ms/step - loss: 0.0334 - accuracy: 1.0000 - val_loss: 0.0670 - val_accuracy: 1.0000\n",
      "Epoch 161/200\n",
      "3/3 [==============================] - 0s 32ms/step - loss: 0.0320 - accuracy: 1.0000 - val_loss: 0.0634 - val_accuracy: 1.0000\n",
      "Epoch 162/200\n",
      "3/3 [==============================] - 0s 36ms/step - loss: 0.0309 - accuracy: 1.0000 - val_loss: 0.1087 - val_accuracy: 0.9500\n",
      "Epoch 163/200\n",
      "3/3 [==============================] - 0s 36ms/step - loss: 0.0351 - accuracy: 1.0000 - val_loss: 0.0679 - val_accuracy: 1.0000\n",
      "Epoch 164/200\n",
      "3/3 [==============================] - 0s 32ms/step - loss: 0.0288 - accuracy: 1.0000 - val_loss: 0.0714 - val_accuracy: 1.0000\n",
      "Epoch 165/200\n",
      "3/3 [==============================] - 0s 32ms/step - loss: 0.0290 - accuracy: 1.0000 - val_loss: 0.0689 - val_accuracy: 1.0000\n",
      "Epoch 166/200\n",
      "3/3 [==============================] - 0s 32ms/step - loss: 0.0300 - accuracy: 1.0000 - val_loss: 0.0742 - val_accuracy: 1.0000\n",
      "Epoch 167/200\n",
      "3/3 [==============================] - 0s 32ms/step - loss: 0.0285 - accuracy: 1.0000 - val_loss: 0.0616 - val_accuracy: 1.0000\n",
      "Epoch 168/200\n",
      "3/3 [==============================] - 0s 32ms/step - loss: 0.0274 - accuracy: 1.0000 - val_loss: 0.0611 - val_accuracy: 1.0000\n",
      "Epoch 169/200\n",
      "3/3 [==============================] - 0s 40ms/step - loss: 0.0294 - accuracy: 1.0000 - val_loss: 0.0609 - val_accuracy: 1.0000\n",
      "Epoch 170/200\n",
      "3/3 [==============================] - 0s 32ms/step - loss: 0.0262 - accuracy: 1.0000 - val_loss: 0.0654 - val_accuracy: 1.0000\n",
      "Epoch 171/200\n",
      "3/3 [==============================] - 0s 28ms/step - loss: 0.0265 - accuracy: 1.0000 - val_loss: 0.0601 - val_accuracy: 1.0000\n",
      "Epoch 172/200\n",
      "3/3 [==============================] - 0s 28ms/step - loss: 0.0294 - accuracy: 1.0000 - val_loss: 0.0898 - val_accuracy: 1.0000\n",
      "Epoch 173/200\n",
      "3/3 [==============================] - 0s 40ms/step - loss: 0.0325 - accuracy: 1.0000 - val_loss: 0.0611 - val_accuracy: 1.0000\n",
      "Epoch 174/200\n",
      "3/3 [==============================] - 0s 36ms/step - loss: 0.0250 - accuracy: 1.0000 - val_loss: 0.0667 - val_accuracy: 1.0000\n"
     ]
    },
    {
     "name": "stdout",
     "output_type": "stream",
     "text": [
      "Epoch 175/200\n",
      "3/3 [==============================] - 0s 48ms/step - loss: 0.0272 - accuracy: 1.0000 - val_loss: 0.1048 - val_accuracy: 0.9500\n",
      "Epoch 176/200\n",
      "3/3 [==============================] - 0s 44ms/step - loss: 0.0292 - accuracy: 1.0000 - val_loss: 0.0587 - val_accuracy: 1.0000\n",
      "Epoch 177/200\n",
      "3/3 [==============================] - 0s 44ms/step - loss: 0.0263 - accuracy: 1.0000 - val_loss: 0.0591 - val_accuracy: 1.0000\n",
      "Epoch 178/200\n",
      "3/3 [==============================] - 0s 52ms/step - loss: 0.0280 - accuracy: 1.0000 - val_loss: 0.0626 - val_accuracy: 1.0000\n",
      "Epoch 179/200\n",
      "3/3 [==============================] - 0s 32ms/step - loss: 0.0241 - accuracy: 1.0000 - val_loss: 0.0602 - val_accuracy: 1.0000\n",
      "Epoch 180/200\n",
      "3/3 [==============================] - 0s 36ms/step - loss: 0.0278 - accuracy: 1.0000 - val_loss: 0.0578 - val_accuracy: 1.0000\n",
      "Epoch 181/200\n",
      "3/3 [==============================] - 0s 40ms/step - loss: 0.0254 - accuracy: 1.0000 - val_loss: 0.0585 - val_accuracy: 1.0000\n",
      "Epoch 182/200\n",
      "3/3 [==============================] - 0s 38ms/step - loss: 0.0236 - accuracy: 1.0000 - val_loss: 0.0580 - val_accuracy: 1.0000\n",
      "Epoch 183/200\n",
      "3/3 [==============================] - 0s 40ms/step - loss: 0.0244 - accuracy: 1.0000 - val_loss: 0.0578 - val_accuracy: 1.0000\n",
      "Epoch 184/200\n",
      "3/3 [==============================] - 0s 36ms/step - loss: 0.0243 - accuracy: 1.0000 - val_loss: 0.0562 - val_accuracy: 1.0000\n",
      "Epoch 185/200\n",
      "3/3 [==============================] - 0s 36ms/step - loss: 0.0229 - accuracy: 1.0000 - val_loss: 0.0564 - val_accuracy: 1.0000\n",
      "Epoch 186/200\n",
      "3/3 [==============================] - 0s 32ms/step - loss: 0.0263 - accuracy: 1.0000 - val_loss: 0.0583 - val_accuracy: 1.0000\n",
      "Epoch 187/200\n",
      "3/3 [==============================] - 0s 28ms/step - loss: 0.0217 - accuracy: 1.0000 - val_loss: 0.0555 - val_accuracy: 1.0000\n",
      "Epoch 188/200\n",
      "3/3 [==============================] - 0s 36ms/step - loss: 0.0214 - accuracy: 1.0000 - val_loss: 0.0661 - val_accuracy: 1.0000\n",
      "Epoch 189/200\n",
      "3/3 [==============================] - 0s 32ms/step - loss: 0.0213 - accuracy: 1.0000 - val_loss: 0.0547 - val_accuracy: 1.0000\n",
      "Epoch 190/200\n",
      "3/3 [==============================] - 0s 40ms/step - loss: 0.0223 - accuracy: 1.0000 - val_loss: 0.0568 - val_accuracy: 1.0000\n",
      "Epoch 191/200\n",
      "3/3 [==============================] - 0s 40ms/step - loss: 0.0223 - accuracy: 1.0000 - val_loss: 0.0695 - val_accuracy: 1.0000\n",
      "Epoch 192/200\n",
      "3/3 [==============================] - 0s 57ms/step - loss: 0.0230 - accuracy: 1.0000 - val_loss: 0.0550 - val_accuracy: 1.0000\n",
      "Epoch 193/200\n",
      "3/3 [==============================] - 0s 28ms/step - loss: 0.0203 - accuracy: 1.0000 - val_loss: 0.0544 - val_accuracy: 1.0000\n",
      "Epoch 194/200\n",
      "3/3 [==============================] - 0s 32ms/step - loss: 0.0206 - accuracy: 1.0000 - val_loss: 0.0540 - val_accuracy: 1.0000\n",
      "Epoch 195/200\n",
      "3/3 [==============================] - 0s 32ms/step - loss: 0.0214 - accuracy: 1.0000 - val_loss: 0.0536 - val_accuracy: 1.0000\n",
      "Epoch 196/200\n",
      "3/3 [==============================] - 0s 36ms/step - loss: 0.0206 - accuracy: 1.0000 - val_loss: 0.0532 - val_accuracy: 1.0000\n",
      "Epoch 197/200\n",
      "3/3 [==============================] - 0s 36ms/step - loss: 0.0196 - accuracy: 1.0000 - val_loss: 0.0618 - val_accuracy: 1.0000\n",
      "Epoch 198/200\n",
      "3/3 [==============================] - 0s 32ms/step - loss: 0.0196 - accuracy: 1.0000 - val_loss: 0.0544 - val_accuracy: 1.0000\n",
      "Epoch 199/200\n",
      "3/3 [==============================] - 0s 32ms/step - loss: 0.0213 - accuracy: 1.0000 - val_loss: 0.0537 - val_accuracy: 1.0000\n",
      "Epoch 200/200\n",
      "3/3 [==============================] - 0s 32ms/step - loss: 0.0189 - accuracy: 1.0000 - val_loss: 0.0538 - val_accuracy: 1.0000\n"
     ]
    }
   ],
   "source": [
    "H = model.fit(x_train, y_train, validation_data=(x_test, y_test), \n",
    "          epochs=max_epochs, batch_size=32)"
   ]
  },
  {
   "cell_type": "code",
   "execution_count": 15,
   "metadata": {},
   "outputs": [
    {
     "data": {
      "image/png": "[encoded data removed]",
      "text/plain": [
       "<Figure size 432x288 with 1 Axes>"
      ]
     },
     "metadata": {},
     "output_type": "display_data"
    }
   ],
   "source": [
    "N = np.arange(0, max_epochs)\n",
    "plt.style.use(\"ggplot\")\n",
    "plt.figure()\n",
    "plt.plot(N, H.history[\"loss\"], label=\"train_loss\")\n",
    "plt.plot(N, H.history[\"val_loss\"], label=\"val_loss\")\n",
    "#plt.plot(N, H.history[\"accuracy\"], label=\"train_acc\")\n",
    "#plt.plot(N, H.history[\"val_accuracy\"], label=\"val_acc\")\n",
    "plt.xlabel(\"Epoch #\")\n",
    "plt.legend()\n",
    "plt.show()"
   ]
  },
  {
   "cell_type": "code",
   "execution_count": 16,
   "metadata": {},
   "outputs": [
    {
     "name": "stdout",
     "output_type": "stream",
     "text": [
      "              precision    recall  f1-score   support\n",
      "\n",
      "      Nangka       1.00      1.00      1.00        12\n",
      "      Pepaya       1.00      1.00      1.00         8\n",
      "\n",
      "    accuracy                           1.00        20\n",
      "   macro avg       1.00      1.00      1.00        20\n",
      "weighted avg       1.00      1.00      1.00        20\n",
      "\n"
     ]
    }
   ],
   "source": [
    "# menghitung nilai akurasi model terhadap data test\n",
    "predictions = model.predict(x_test, batch_size=32)\n",
    "target = (predictions > 0.5).astype(np.int)\n",
    "print(classification_report(y_test, target, target_names=label_list))"
   ]
  },
  {
   "cell_type": "code",
   "execution_count": 35,
   "metadata": {},
   "outputs": [
    {
     "name": "stdout",
     "output_type": "stream",
     "text": [
      "[[0.00626755]]\n"
     ]
    }
   ],
   "source": [
    "# uji model menggunakan image lain\n",
    "queryPath = imagePaths+'query_nangka.jpg'\n",
    "query = cv2.imread(queryPath)\n",
    "output = query.copy()\n",
    "query = cv2.resize(query, (32, 32))\n",
    "q = []\n",
    "q.append(query)\n",
    "q = np.array(q, dtype='float') / 255.0\n",
    "\n",
    "q_pred = model.predict(q)\n",
    "print(q_pred)"
   ]
  },
  {
   "cell_type": "code",
   "execution_count": 36,
   "metadata": {},
   "outputs": [
    {
     "ename": "error",
     "evalue": "OpenCV(4.5.4-dev) D:\\a\\opencv-python\\opencv-python\\opencv\\modules\\highgui\\src\\window_w32.cpp:1261: error: (-27:Null pointer) NULL window: 'Output' in function 'cvDestroyWindow'\n",
     "output_type": "error",
     "traceback": [
      "\u001b[1;31m---------------------------------------------------------------------------\u001b[0m",
      "\u001b[1;31merror\u001b[0m                                     Traceback (most recent call last)",
      "\u001b[1;32m~\\AppData\\Local\\Temp/ipykernel_22828/2988820250.py\u001b[0m in \u001b[0;36m<module>\u001b[1;34m\u001b[0m\n\u001b[0;32m      9\u001b[0m \u001b[0mcv2\u001b[0m\u001b[1;33m.\u001b[0m\u001b[0mimshow\u001b[0m\u001b[1;33m(\u001b[0m\u001b[1;34m'Output'\u001b[0m\u001b[1;33m,\u001b[0m \u001b[0moutput\u001b[0m\u001b[1;33m)\u001b[0m\u001b[1;33m\u001b[0m\u001b[1;33m\u001b[0m\u001b[0m\n\u001b[0;32m     10\u001b[0m \u001b[0mcv2\u001b[0m\u001b[1;33m.\u001b[0m\u001b[0mwaitKey\u001b[0m\u001b[1;33m(\u001b[0m\u001b[1;33m)\u001b[0m \u001b[1;31m# image tidak akan diclose,sebelum user menekan sembarang tombol\u001b[0m\u001b[1;33m\u001b[0m\u001b[1;33m\u001b[0m\u001b[0m\n\u001b[1;32m---> 11\u001b[1;33m \u001b[0mcv2\u001b[0m\u001b[1;33m.\u001b[0m\u001b[0mdestroyWindow\u001b[0m\u001b[1;33m(\u001b[0m\u001b[1;34m'Output'\u001b[0m\u001b[1;33m)\u001b[0m \u001b[1;31m# image akan diclose\u001b[0m\u001b[1;33m\u001b[0m\u001b[1;33m\u001b[0m\u001b[0m\n\u001b[0m",
      "\u001b[1;31merror\u001b[0m: OpenCV(4.5.4-dev) D:\\a\\opencv-python\\opencv-python\\opencv\\modules\\highgui\\src\\window_w32.cpp:1261: error: (-27:Null pointer) NULL window: 'Output' in function 'cvDestroyWindow'\n"
     ]
    }
   ],
   "source": [
    "if q_pred<=0.5 :\n",
    "    target = \"Nangka\"\n",
    "else :\n",
    "    target = \"Pepaya\"\n",
    "text = \"{}\".format(target)\n",
    "cv2.putText(output, text, (10, 30), cv2.FONT_HERSHEY_SIMPLEX, 0.7, (0, 0, 255), 2)\n",
    " \n",
    "# menampilkan output image\n",
    "cv2.imshow('Output', output)\n",
    "cv2.waitKey() # image tidak akan diclose,sebelum user menekan sembarang tombol\n",
    "cv2.destroyWindow('Output') # image akan diclose"
   ]
  },
  {
   "cell_type": "code",
   "execution_count": null,
   "metadata": {},
   "outputs": [],
   "source": []
  },
  {
   "cell_type": "code",
   "execution_count": null,
   "metadata": {},
   "outputs": [],
   "source": []
  },
  {
   "cell_type": "code",
   "execution_count": null,
   "metadata": {},
   "outputs": [],
   "source": []
  }
 ],
 "metadata": {
  "interpreter": {
   "hash": "ac59ebe37160ed0dfa835113d9b8498d9f09ceb179beaac4002f036b9467c963"
  },
  "kernelspec": {
   "display_name": "Python 3 (ipykernel)",
   "language": "python",
   "name": "python3"
  },
  "language_info": {
   "codemirror_mode": {
    "name": "ipython",
    "version": 3
   },
   "file_extension": ".py",
   "mimetype": "text/x-python",
   "name": "python",
   "nbconvert_exporter": "python",
   "pygments_lexer": "ipython3",
   "version": "3.9.7"
  }
 },
 "nbformat": 4,
 "nbformat_minor": 2
}
