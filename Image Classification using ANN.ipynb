{
 "cells": [
  {
   "cell_type": "code",
   "execution_count": 2,
   "metadata": {},
   "outputs": [],
   "source": [
    "from sklearn.model_selection import train_test_split\n",
    "from sklearn.preprocessing import LabelEncoder\n",
    "from sklearn.metrics import classification_report\n",
    "from tensorflow.keras.models import Sequential\n",
    "from tensorflow.keras.layers import Flatten, Dense\n",
    "from tensorflow.keras.optimizers import SGD\n",
    "import numpy as np\n",
    "import cv2\n",
    "import glob\n",
    "import matplotlib.pyplot as plt"
   ]
  },
  {
   "cell_type": "code",
   "execution_count": null,
   "metadata": {},
   "outputs": [],
   "source": [
    "imagePaths = 'Dataset\\\\'\n",
    "label_list = ['Nangka', 'Pepaya']\n",
    "data = []\n",
    "labels = []\n",
    "\n"
   ]
  },
  {
   "cell_type": "code",
   "execution_count": 4,
   "metadata": {},
   "outputs": [],
   "source": [
    "for label in label_list:\n",
    "    for imagePath in glob.glob(imagePaths+label+'\\\\*.jpg'):\n",
    "        #print(imagePath)\n",
    "        image = cv2.imread(imagePath)\n",
    "        image = cv2.resize(image, (32, 32))\n",
    "        data.append(image)\n",
    "        labels.append(label)"
   ]
  },
  {
   "cell_type": "code",
   "execution_count": 5,
   "metadata": {},
   "outputs": [
    {
     "data": {
      "text/plain": [
       "(100, 32, 32, 3)"
      ]
     },
     "execution_count": 5,
     "metadata": {},
     "output_type": "execute_result"
    }
   ],
   "source": [
    "np.array(data).shape"
   ]
  },
  {
   "cell_type": "code",
   "execution_count": 6,
   "metadata": {},
   "outputs": [],
   "source": [
    "# ubah type data dari list menjadi array\n",
    "# ubah nilai dari tiap pixel menjadi range [0..1]\n",
    "data = np.array(data, dtype='float') / 255.0\n",
    "labels = np.array(labels)"
   ]
  },
  {
   "cell_type": "code",
   "execution_count": 7,
   "metadata": {},
   "outputs": [
    {
     "name": "stdout",
     "output_type": "stream",
     "text": [
      "['Nangka' 'Nangka' 'Nangka' 'Nangka' 'Nangka' 'Nangka' 'Nangka' 'Nangka'\n",
      " 'Nangka' 'Nangka' 'Nangka' 'Nangka' 'Nangka' 'Nangka' 'Nangka' 'Nangka'\n",
      " 'Nangka' 'Nangka' 'Nangka' 'Nangka' 'Nangka' 'Nangka' 'Nangka' 'Nangka'\n",
      " 'Nangka' 'Nangka' 'Nangka' 'Nangka' 'Nangka' 'Nangka' 'Nangka' 'Nangka'\n",
      " 'Nangka' 'Nangka' 'Nangka' 'Nangka' 'Nangka' 'Nangka' 'Nangka' 'Nangka'\n",
      " 'Nangka' 'Nangka' 'Nangka' 'Nangka' 'Nangka' 'Nangka' 'Nangka' 'Nangka'\n",
      " 'Nangka' 'Nangka' 'Pepaya' 'Pepaya' 'Pepaya' 'Pepaya' 'Pepaya' 'Pepaya'\n",
      " 'Pepaya' 'Pepaya' 'Pepaya' 'Pepaya' 'Pepaya' 'Pepaya' 'Pepaya' 'Pepaya'\n",
      " 'Pepaya' 'Pepaya' 'Pepaya' 'Pepaya' 'Pepaya' 'Pepaya' 'Pepaya' 'Pepaya'\n",
      " 'Pepaya' 'Pepaya' 'Pepaya' 'Pepaya' 'Pepaya' 'Pepaya' 'Pepaya' 'Pepaya'\n",
      " 'Pepaya' 'Pepaya' 'Pepaya' 'Pepaya' 'Pepaya' 'Pepaya' 'Pepaya' 'Pepaya'\n",
      " 'Pepaya' 'Pepaya' 'Pepaya' 'Pepaya' 'Pepaya' 'Pepaya' 'Pepaya' 'Pepaya'\n",
      " 'Pepaya' 'Pepaya' 'Pepaya' 'Pepaya']\n"
     ]
    }
   ],
   "source": [
    "print(labels)"
   ]
  },
  {
   "cell_type": "code",
   "execution_count": 30,
   "metadata": {},
   "outputs": [
    {
     "name": "stdout",
     "output_type": "stream",
     "text": [
      "[0 0 0 0 0 0 0 0 0 0 0 0 0 0 0 0 0 0 0 0 0 0 0 0 0 0 0 0 0 0 0 0 0 0 0 0 0\n",
      " 0 0 0 0 0 0 0 0 0 0 0 0 0 1 1 1 1 1 1 1 1 1 1 1 1 1 1 1 1 1 1 1 1 1 1 1 1\n",
      " 1 1 1 1 1 1 1 1 1 1 1 1 1 1 1 1 1 1 1 1 1 1 1 1 1 1]\n"
     ]
    }
   ],
   "source": [
    "lb = LabelEncoder()\n",
    "labels = lb.fit_transform(labels)\n",
    "print(labels)"
   ]
  },
  {
   "cell_type": "code",
   "execution_count": 31,
   "metadata": {},
   "outputs": [],
   "source": [
    "x_train, x_test, y_train, y_test = train_test_split(data, labels, test_size=0.2, random_state=42)"
   ]
  },
  {
   "cell_type": "code",
   "execution_count": 32,
   "metadata": {},
   "outputs": [
    {
     "name": "stdout",
     "output_type": "stream",
     "text": [
      "Ukuran data train = (80, 32, 32, 3)\n",
      "Ukuran data test = (20, 32, 32, 3)\n"
     ]
    }
   ],
   "source": [
    "print('Ukuran data train =', x_train.shape)\n",
    "print('Ukuran data test =', x_test.shape)"
   ]
  },
  {
   "cell_type": "code",
   "execution_count": 33,
   "metadata": {},
   "outputs": [],
   "source": [
    "model = Sequential()\n",
    "model.add(Flatten(input_shape=(32,32,3)))\n",
    "model.add(Dense(1024, activation=\"relu\"))\n",
    "model.add(Dense(1024, activation=\"relu\"))\n",
    "model.add(Dense(1, activation=\"sigmoid\"))"
   ]
  },
  {
   "cell_type": "code",
   "execution_count": 34,
   "metadata": {},
   "outputs": [
    {
     "name": "stdout",
     "output_type": "stream",
     "text": [
      "Model: \"sequential_1\"\n",
      "_________________________________________________________________\n",
      " Layer (type)                Output Shape              Param #   \n",
      "=================================================================\n",
      " flatten_1 (Flatten)         (None, 3072)              0         \n",
      "                                                                 \n",
      " dense_3 (Dense)             (None, 1024)              3146752   \n",
      "                                                                 \n",
      " dense_4 (Dense)             (None, 1024)              1049600   \n",
      "                                                                 \n",
      " dense_5 (Dense)             (None, 1)                 1025      \n",
      "                                                                 \n",
      "=================================================================\n",
      "Total params: 4,197,377\n",
      "Trainable params: 4,197,377\n",
      "Non-trainable params: 0\n",
      "_________________________________________________________________\n"
     ]
    }
   ],
   "source": [
    "model.summary()"
   ]
  },
  {
   "cell_type": "code",
   "execution_count": 35,
   "metadata": {},
   "outputs": [],
   "source": [
    "# tentukan hyperparameter\n",
    "lr = 0.01\n",
    "max_epochs = 200\n",
    "opt_funct = SGD(learning_rate=lr)"
   ]
  },
  {
   "cell_type": "code",
   "execution_count": 36,
   "metadata": {},
   "outputs": [],
   "source": [
    "# compile arsitektur yang telah dibuat\n",
    "model.compile(loss = 'binary_crossentropy', \n",
    "              optimizer = opt_funct, \n",
    "              metrics = ['accuracy'])"
   ]
  },
  {
   "cell_type": "code",
   "execution_count": 37,
   "metadata": {},
   "outputs": [
    {
     "name": "stdout",
     "output_type": "stream",
     "text": [
      "Epoch 1/200\n",
      "3/3 [==============================] - 1s 113ms/step - loss: 0.6901 - accuracy: 0.5500 - val_loss: 1.1022 - val_accuracy: 0.4000\n",
      "Epoch 2/200\n",
      "3/3 [==============================] - 0s 45ms/step - loss: 0.6559 - accuracy: 0.6250 - val_loss: 0.5518 - val_accuracy: 0.9000\n",
      "Epoch 3/200\n",
      "3/3 [==============================] - 0s 42ms/step - loss: 0.6026 - accuracy: 0.7375 - val_loss: 0.7065 - val_accuracy: 0.6000\n",
      "Epoch 4/200\n",
      "3/3 [==============================] - 0s 41ms/step - loss: 0.9262 - accuracy: 0.4750 - val_loss: 0.6520 - val_accuracy: 0.4000\n",
      "Epoch 5/200\n",
      "3/3 [==============================] - 0s 44ms/step - loss: 0.5611 - accuracy: 0.6875 - val_loss: 0.5256 - val_accuracy: 0.6000\n",
      "Epoch 6/200\n",
      "3/3 [==============================] - 0s 40ms/step - loss: 0.5372 - accuracy: 0.7000 - val_loss: 0.6270 - val_accuracy: 0.6000\n",
      "Epoch 7/200\n",
      "3/3 [==============================] - 0s 46ms/step - loss: 0.6533 - accuracy: 0.5500 - val_loss: 0.5829 - val_accuracy: 0.6500\n",
      "Epoch 8/200\n",
      "3/3 [==============================] - 0s 42ms/step - loss: 0.4787 - accuracy: 0.7750 - val_loss: 0.6512 - val_accuracy: 0.4500\n",
      "Epoch 9/200\n",
      "3/3 [==============================] - 0s 41ms/step - loss: 0.5503 - accuracy: 0.6125 - val_loss: 0.4107 - val_accuracy: 0.9500\n",
      "Epoch 10/200\n",
      "3/3 [==============================] - 0s 35ms/step - loss: 0.4247 - accuracy: 0.8875 - val_loss: 0.4363 - val_accuracy: 0.8500\n",
      "Epoch 11/200\n",
      "3/3 [==============================] - 0s 41ms/step - loss: 0.4419 - accuracy: 0.8000 - val_loss: 0.4171 - val_accuracy: 0.8500\n",
      "Epoch 12/200\n",
      "3/3 [==============================] - 0s 42ms/step - loss: 0.3893 - accuracy: 0.9125 - val_loss: 0.3707 - val_accuracy: 0.8500\n",
      "Epoch 13/200\n",
      "3/3 [==============================] - 0s 45ms/step - loss: 0.4189 - accuracy: 0.8250 - val_loss: 0.5262 - val_accuracy: 0.7000\n",
      "Epoch 14/200\n",
      "3/3 [==============================] - 0s 42ms/step - loss: 0.5435 - accuracy: 0.6500 - val_loss: 0.3490 - val_accuracy: 0.8500\n",
      "Epoch 15/200\n",
      "3/3 [==============================] - 0s 37ms/step - loss: 0.3998 - accuracy: 0.8500 - val_loss: 0.8428 - val_accuracy: 0.4000\n",
      "Epoch 16/200\n",
      "3/3 [==============================] - 0s 39ms/step - loss: 0.8760 - accuracy: 0.5250 - val_loss: 0.3951 - val_accuracy: 0.9000\n",
      "Epoch 17/200\n",
      "3/3 [==============================] - 0s 43ms/step - loss: 0.3831 - accuracy: 0.8875 - val_loss: 0.6828 - val_accuracy: 0.6000\n",
      "Epoch 18/200\n",
      "3/3 [==============================] - 0s 38ms/step - loss: 0.5517 - accuracy: 0.6250 - val_loss: 0.3896 - val_accuracy: 0.7000\n",
      "Epoch 19/200\n",
      "3/3 [==============================] - 0s 36ms/step - loss: 0.3727 - accuracy: 0.8250 - val_loss: 0.3383 - val_accuracy: 0.9000\n",
      "Epoch 20/200\n",
      "3/3 [==============================] - 0s 35ms/step - loss: 0.3319 - accuracy: 0.9125 - val_loss: 0.2882 - val_accuracy: 0.9500\n",
      "Epoch 21/200\n",
      "3/3 [==============================] - 0s 39ms/step - loss: 0.3232 - accuracy: 0.8875 - val_loss: 0.2850 - val_accuracy: 0.9500\n",
      "Epoch 22/200\n",
      "3/3 [==============================] - 0s 42ms/step - loss: 0.3744 - accuracy: 0.8125 - val_loss: 0.6285 - val_accuracy: 0.6500\n",
      "Epoch 23/200\n",
      "3/3 [==============================] - 0s 43ms/step - loss: 0.6427 - accuracy: 0.6000 - val_loss: 0.2876 - val_accuracy: 0.9000\n",
      "Epoch 24/200\n",
      "3/3 [==============================] - 0s 51ms/step - loss: 0.3281 - accuracy: 0.9000 - val_loss: 0.3487 - val_accuracy: 0.8500\n",
      "Epoch 25/200\n",
      "3/3 [==============================] - 0s 42ms/step - loss: 0.3016 - accuracy: 0.9000 - val_loss: 0.2561 - val_accuracy: 0.9500\n",
      "Epoch 26/200\n",
      "3/3 [==============================] - 0s 41ms/step - loss: 0.2834 - accuracy: 0.9250 - val_loss: 0.2551 - val_accuracy: 0.9500\n",
      "Epoch 27/200\n",
      "3/3 [==============================] - 0s 51ms/step - loss: 0.2780 - accuracy: 0.9500 - val_loss: 0.2506 - val_accuracy: 0.9500\n",
      "Epoch 28/200\n",
      "3/3 [==============================] - 0s 41ms/step - loss: 0.2683 - accuracy: 0.9500 - val_loss: 0.2690 - val_accuracy: 0.9000\n",
      "Epoch 29/200\n",
      "3/3 [==============================] - 0s 45ms/step - loss: 0.2848 - accuracy: 0.8750 - val_loss: 0.5426 - val_accuracy: 0.7000\n",
      "Epoch 30/200\n",
      "3/3 [==============================] - 0s 42ms/step - loss: 0.7054 - accuracy: 0.5750 - val_loss: 0.3397 - val_accuracy: 0.8500\n",
      "Epoch 31/200\n",
      "3/3 [==============================] - 0s 40ms/step - loss: 0.3405 - accuracy: 0.8500 - val_loss: 0.3213 - val_accuracy: 0.8500\n",
      "Epoch 32/200\n",
      "3/3 [==============================] - 0s 38ms/step - loss: 0.3443 - accuracy: 0.8500 - val_loss: 0.2565 - val_accuracy: 0.9000\n",
      "Epoch 33/200\n",
      "3/3 [==============================] - 0s 37ms/step - loss: 0.4765 - accuracy: 0.6625 - val_loss: 0.2573 - val_accuracy: 0.9500\n",
      "Epoch 34/200\n",
      "3/3 [==============================] - 0s 37ms/step - loss: 0.2919 - accuracy: 0.9000 - val_loss: 0.2456 - val_accuracy: 0.9000\n",
      "Epoch 35/200\n",
      "3/3 [==============================] - 0s 45ms/step - loss: 0.2568 - accuracy: 0.9125 - val_loss: 0.2415 - val_accuracy: 0.9500\n",
      "Epoch 36/200\n",
      "3/3 [==============================] - 0s 45ms/step - loss: 0.2253 - accuracy: 0.9500 - val_loss: 0.2197 - val_accuracy: 0.9000\n",
      "Epoch 37/200\n",
      "3/3 [==============================] - 0s 36ms/step - loss: 0.2897 - accuracy: 0.9125 - val_loss: 0.3653 - val_accuracy: 0.8000\n",
      "Epoch 38/200\n",
      "3/3 [==============================] - 0s 34ms/step - loss: 0.3030 - accuracy: 0.8750 - val_loss: 0.2121 - val_accuracy: 0.9500\n",
      "Epoch 39/200\n",
      "3/3 [==============================] - 0s 36ms/step - loss: 0.2270 - accuracy: 0.9375 - val_loss: 0.2073 - val_accuracy: 0.9000\n",
      "Epoch 40/200\n",
      "3/3 [==============================] - 0s 39ms/step - loss: 0.2852 - accuracy: 0.8875 - val_loss: 0.3209 - val_accuracy: 0.8500\n",
      "Epoch 41/200\n",
      "3/3 [==============================] - 0s 49ms/step - loss: 0.2857 - accuracy: 0.8625 - val_loss: 0.2602 - val_accuracy: 0.9000\n",
      "Epoch 42/200\n",
      "3/3 [==============================] - 0s 42ms/step - loss: 0.2190 - accuracy: 0.9250 - val_loss: 0.2000 - val_accuracy: 0.9000\n",
      "Epoch 43/200\n",
      "3/3 [==============================] - 0s 39ms/step - loss: 0.1954 - accuracy: 0.9500 - val_loss: 0.3965 - val_accuracy: 0.8000\n",
      "Epoch 44/200\n",
      "3/3 [==============================] - 0s 53ms/step - loss: 0.5002 - accuracy: 0.7375 - val_loss: 0.2041 - val_accuracy: 0.9500\n",
      "Epoch 45/200\n",
      "3/3 [==============================] - 0s 39ms/step - loss: 0.2530 - accuracy: 0.8875 - val_loss: 0.2036 - val_accuracy: 0.9000\n",
      "Epoch 46/200\n",
      "3/3 [==============================] - 0s 41ms/step - loss: 0.3132 - accuracy: 0.8875 - val_loss: 0.3084 - val_accuracy: 0.9000\n",
      "Epoch 47/200\n",
      "3/3 [==============================] - 0s 38ms/step - loss: 0.2674 - accuracy: 0.9125 - val_loss: 0.1889 - val_accuracy: 0.9500\n",
      "Epoch 48/200\n",
      "3/3 [==============================] - 0s 37ms/step - loss: 0.2170 - accuracy: 0.9375 - val_loss: 0.2192 - val_accuracy: 0.9000\n",
      "Epoch 49/200\n",
      "3/3 [==============================] - 0s 40ms/step - loss: 0.2172 - accuracy: 0.9500 - val_loss: 0.1850 - val_accuracy: 0.9500\n",
      "Epoch 50/200\n",
      "3/3 [==============================] - 0s 37ms/step - loss: 0.1987 - accuracy: 0.9375 - val_loss: 0.1910 - val_accuracy: 0.9500\n",
      "Epoch 51/200\n",
      "3/3 [==============================] - 0s 45ms/step - loss: 0.2148 - accuracy: 0.9250 - val_loss: 0.3152 - val_accuracy: 0.8500\n",
      "Epoch 52/200\n",
      "3/3 [==============================] - 0s 41ms/step - loss: 0.3220 - accuracy: 0.8250 - val_loss: 0.4195 - val_accuracy: 0.7000\n",
      "Epoch 53/200\n",
      "3/3 [==============================] - 0s 41ms/step - loss: 0.2968 - accuracy: 0.8500 - val_loss: 0.1768 - val_accuracy: 0.9000\n",
      "Epoch 54/200\n",
      "3/3 [==============================] - 0s 41ms/step - loss: 0.1680 - accuracy: 0.9625 - val_loss: 0.1669 - val_accuracy: 1.0000\n",
      "Epoch 55/200\n",
      "3/3 [==============================] - 0s 43ms/step - loss: 0.1809 - accuracy: 0.9500 - val_loss: 0.1804 - val_accuracy: 0.9500\n",
      "Epoch 56/200\n",
      "3/3 [==============================] - 0s 35ms/step - loss: 0.1600 - accuracy: 0.9875 - val_loss: 0.1636 - val_accuracy: 1.0000\n",
      "Epoch 57/200\n",
      "3/3 [==============================] - 0s 36ms/step - loss: 0.1539 - accuracy: 0.9750 - val_loss: 0.2456 - val_accuracy: 0.9000\n",
      "Epoch 58/200\n",
      "3/3 [==============================] - 0s 37ms/step - loss: 0.2043 - accuracy: 0.9375 - val_loss: 0.1603 - val_accuracy: 1.0000\n",
      "Epoch 59/200\n"
     ]
    },
    {
     "name": "stdout",
     "output_type": "stream",
     "text": [
      "3/3 [==============================] - 0s 37ms/step - loss: 0.1489 - accuracy: 0.9750 - val_loss: 0.1593 - val_accuracy: 1.0000\n",
      "Epoch 60/200\n",
      "3/3 [==============================] - 0s 37ms/step - loss: 0.1979 - accuracy: 0.9125 - val_loss: 0.3516 - val_accuracy: 0.8500\n",
      "Epoch 61/200\n",
      "3/3 [==============================] - 0s 43ms/step - loss: 0.4646 - accuracy: 0.7375 - val_loss: 0.1610 - val_accuracy: 1.0000\n",
      "Epoch 62/200\n",
      "3/3 [==============================] - 0s 41ms/step - loss: 0.1668 - accuracy: 0.9750 - val_loss: 0.2072 - val_accuracy: 0.9000\n",
      "Epoch 63/200\n",
      "3/3 [==============================] - 0s 44ms/step - loss: 0.1435 - accuracy: 0.9750 - val_loss: 0.1868 - val_accuracy: 0.9500\n",
      "Epoch 64/200\n",
      "3/3 [==============================] - 0s 37ms/step - loss: 0.1483 - accuracy: 0.9625 - val_loss: 0.1532 - val_accuracy: 1.0000\n",
      "Epoch 65/200\n",
      "3/3 [==============================] - 0s 39ms/step - loss: 0.1540 - accuracy: 0.9500 - val_loss: 0.1526 - val_accuracy: 0.9500\n",
      "Epoch 66/200\n",
      "3/3 [==============================] - 0s 44ms/step - loss: 0.1302 - accuracy: 0.9750 - val_loss: 0.1726 - val_accuracy: 0.9500\n",
      "Epoch 67/200\n",
      "3/3 [==============================] - 0s 38ms/step - loss: 0.1491 - accuracy: 0.9625 - val_loss: 0.2015 - val_accuracy: 0.9000\n",
      "Epoch 68/200\n",
      "3/3 [==============================] - 0s 36ms/step - loss: 0.1616 - accuracy: 0.9500 - val_loss: 0.2000 - val_accuracy: 0.9500\n",
      "Epoch 69/200\n",
      "3/3 [==============================] - 0s 37ms/step - loss: 0.1810 - accuracy: 0.9500 - val_loss: 0.1534 - val_accuracy: 0.9000\n",
      "Epoch 70/200\n",
      "3/3 [==============================] - 0s 38ms/step - loss: 0.1838 - accuracy: 0.9500 - val_loss: 0.2438 - val_accuracy: 0.9000\n",
      "Epoch 71/200\n",
      "3/3 [==============================] - 0s 40ms/step - loss: 0.1450 - accuracy: 0.9750 - val_loss: 0.1485 - val_accuracy: 1.0000\n",
      "Epoch 72/200\n",
      "3/3 [==============================] - 0s 44ms/step - loss: 0.1185 - accuracy: 0.9875 - val_loss: 0.1485 - val_accuracy: 0.9500\n",
      "Epoch 73/200\n",
      "3/3 [==============================] - 0s 35ms/step - loss: 0.1850 - accuracy: 0.9250 - val_loss: 0.3973 - val_accuracy: 0.8500\n",
      "Epoch 74/200\n",
      "3/3 [==============================] - 0s 37ms/step - loss: 0.6026 - accuracy: 0.6750 - val_loss: 0.2024 - val_accuracy: 0.9000\n",
      "Epoch 75/200\n",
      "3/3 [==============================] - 0s 40ms/step - loss: 0.1564 - accuracy: 0.9625 - val_loss: 0.1412 - val_accuracy: 1.0000\n",
      "Epoch 76/200\n",
      "3/3 [==============================] - 0s 37ms/step - loss: 0.1271 - accuracy: 0.9875 - val_loss: 0.1555 - val_accuracy: 0.9500\n",
      "Epoch 77/200\n",
      "3/3 [==============================] - 0s 36ms/step - loss: 0.1178 - accuracy: 0.9875 - val_loss: 0.1614 - val_accuracy: 0.9000\n",
      "Epoch 78/200\n",
      "3/3 [==============================] - 0s 39ms/step - loss: 0.1993 - accuracy: 0.9125 - val_loss: 0.3877 - val_accuracy: 0.8000\n",
      "Epoch 79/200\n",
      "3/3 [==============================] - 0s 36ms/step - loss: 0.1915 - accuracy: 0.9125 - val_loss: 0.1446 - val_accuracy: 0.9500\n",
      "Epoch 80/200\n",
      "3/3 [==============================] - 0s 36ms/step - loss: 0.1071 - accuracy: 0.9875 - val_loss: 0.1510 - val_accuracy: 0.9500\n",
      "Epoch 81/200\n",
      "3/3 [==============================] - 0s 39ms/step - loss: 0.1168 - accuracy: 0.9875 - val_loss: 0.1366 - val_accuracy: 1.0000\n",
      "Epoch 82/200\n",
      "3/3 [==============================] - 0s 42ms/step - loss: 0.1001 - accuracy: 0.9875 - val_loss: 0.1373 - val_accuracy: 1.0000\n",
      "Epoch 83/200\n",
      "3/3 [==============================] - 0s 37ms/step - loss: 0.0996 - accuracy: 0.9875 - val_loss: 0.1643 - val_accuracy: 0.9500\n",
      "Epoch 84/200\n",
      "3/3 [==============================] - 0s 38ms/step - loss: 0.1143 - accuracy: 0.9750 - val_loss: 0.1638 - val_accuracy: 0.9500\n",
      "Epoch 85/200\n",
      "3/3 [==============================] - 0s 36ms/step - loss: 0.1213 - accuracy: 0.9750 - val_loss: 0.2236 - val_accuracy: 0.9000\n",
      "Epoch 86/200\n",
      "3/3 [==============================] - 0s 36ms/step - loss: 0.1611 - accuracy: 0.9375 - val_loss: 0.2672 - val_accuracy: 0.9000\n",
      "Epoch 87/200\n",
      "3/3 [==============================] - 0s 38ms/step - loss: 0.1097 - accuracy: 0.9875 - val_loss: 0.1289 - val_accuracy: 1.0000\n",
      "Epoch 88/200\n",
      "3/3 [==============================] - 0s 38ms/step - loss: 0.0905 - accuracy: 0.9875 - val_loss: 0.1279 - val_accuracy: 1.0000\n",
      "Epoch 89/200\n",
      "3/3 [==============================] - 0s 35ms/step - loss: 0.0965 - accuracy: 0.9750 - val_loss: 0.1398 - val_accuracy: 0.9000\n",
      "Epoch 90/200\n",
      "3/3 [==============================] - 0s 40ms/step - loss: 0.0923 - accuracy: 0.9750 - val_loss: 0.1265 - val_accuracy: 1.0000\n",
      "Epoch 91/200\n",
      "3/3 [==============================] - 0s 42ms/step - loss: 0.0911 - accuracy: 0.9875 - val_loss: 0.1646 - val_accuracy: 0.9500\n",
      "Epoch 92/200\n",
      "3/3 [==============================] - 0s 37ms/step - loss: 0.0885 - accuracy: 0.9875 - val_loss: 0.1238 - val_accuracy: 1.0000\n",
      "Epoch 93/200\n",
      "3/3 [==============================] - 0s 39ms/step - loss: 0.0969 - accuracy: 0.9875 - val_loss: 0.1253 - val_accuracy: 1.0000\n",
      "Epoch 94/200\n",
      "3/3 [==============================] - 0s 37ms/step - loss: 0.0826 - accuracy: 0.9875 - val_loss: 0.1224 - val_accuracy: 1.0000\n",
      "Epoch 95/200\n",
      "3/3 [==============================] - 0s 34ms/step - loss: 0.0807 - accuracy: 0.9875 - val_loss: 0.1218 - val_accuracy: 1.0000\n",
      "Epoch 96/200\n",
      "3/3 [==============================] - 0s 36ms/step - loss: 0.0820 - accuracy: 0.9875 - val_loss: 0.1272 - val_accuracy: 0.9000\n",
      "Epoch 97/200\n",
      "3/3 [==============================] - 0s 36ms/step - loss: 0.0829 - accuracy: 0.9875 - val_loss: 0.1964 - val_accuracy: 0.9000\n",
      "Epoch 98/200\n",
      "3/3 [==============================] - 0s 35ms/step - loss: 0.1528 - accuracy: 0.9375 - val_loss: 0.1380 - val_accuracy: 0.9000\n",
      "Epoch 99/200\n",
      "3/3 [==============================] - 0s 35ms/step - loss: 0.0913 - accuracy: 0.9750 - val_loss: 0.3048 - val_accuracy: 0.8500\n",
      "Epoch 100/200\n",
      "3/3 [==============================] - 0s 40ms/step - loss: 0.1625 - accuracy: 0.9375 - val_loss: 0.1193 - val_accuracy: 1.0000\n",
      "Epoch 101/200\n",
      "3/3 [==============================] - 0s 36ms/step - loss: 0.1027 - accuracy: 0.9875 - val_loss: 0.2988 - val_accuracy: 0.8500\n",
      "Epoch 102/200\n",
      "3/3 [==============================] - 0s 41ms/step - loss: 0.1177 - accuracy: 0.9500 - val_loss: 0.1174 - val_accuracy: 1.0000\n",
      "Epoch 103/200\n",
      "3/3 [==============================] - 0s 38ms/step - loss: 0.0856 - accuracy: 1.0000 - val_loss: 0.1491 - val_accuracy: 0.9000\n",
      "Epoch 104/200\n",
      "3/3 [==============================] - 0s 35ms/step - loss: 0.0954 - accuracy: 0.9875 - val_loss: 0.1751 - val_accuracy: 0.9500\n",
      "Epoch 105/200\n",
      "3/3 [==============================] - 0s 36ms/step - loss: 0.0700 - accuracy: 0.9875 - val_loss: 0.1141 - val_accuracy: 1.0000\n",
      "Epoch 106/200\n",
      "3/3 [==============================] - 0s 36ms/step - loss: 0.0669 - accuracy: 0.9875 - val_loss: 0.1133 - val_accuracy: 1.0000\n",
      "Epoch 107/200\n",
      "3/3 [==============================] - 0s 36ms/step - loss: 0.0666 - accuracy: 1.0000 - val_loss: 0.1252 - val_accuracy: 0.9500\n",
      "Epoch 108/200\n",
      "3/3 [==============================] - 0s 35ms/step - loss: 0.0660 - accuracy: 1.0000 - val_loss: 0.1401 - val_accuracy: 0.9500\n",
      "Epoch 109/200\n",
      "3/3 [==============================] - 0s 37ms/step - loss: 0.1650 - accuracy: 0.9375 - val_loss: 0.1525 - val_accuracy: 0.9000\n",
      "Epoch 110/200\n",
      "3/3 [==============================] - 0s 36ms/step - loss: 0.1053 - accuracy: 0.9750 - val_loss: 0.1321 - val_accuracy: 0.9000\n",
      "Epoch 111/200\n",
      "3/3 [==============================] - 0s 34ms/step - loss: 0.0817 - accuracy: 0.9875 - val_loss: 0.1157 - val_accuracy: 0.9500\n",
      "Epoch 112/200\n",
      "3/3 [==============================] - 0s 39ms/step - loss: 0.0593 - accuracy: 1.0000 - val_loss: 0.1496 - val_accuracy: 0.9500\n",
      "Epoch 113/200\n",
      "3/3 [==============================] - 0s 40ms/step - loss: 0.0631 - accuracy: 1.0000 - val_loss: 0.1167 - val_accuracy: 0.9500\n",
      "Epoch 114/200\n",
      "3/3 [==============================] - 0s 36ms/step - loss: 0.0616 - accuracy: 1.0000 - val_loss: 0.1547 - val_accuracy: 0.9500\n",
      "Epoch 115/200\n",
      "3/3 [==============================] - 0s 43ms/step - loss: 0.0631 - accuracy: 1.0000 - val_loss: 0.1205 - val_accuracy: 0.9500\n",
      "Epoch 116/200\n",
      "3/3 [==============================] - 0s 36ms/step - loss: 0.0562 - accuracy: 1.0000 - val_loss: 0.1092 - val_accuracy: 1.0000\n",
      "Epoch 117/200\n"
     ]
    },
    {
     "name": "stdout",
     "output_type": "stream",
     "text": [
      "3/3 [==============================] - 0s 37ms/step - loss: 0.0742 - accuracy: 1.0000 - val_loss: 0.1138 - val_accuracy: 0.9500\n",
      "Epoch 118/200\n",
      "3/3 [==============================] - 0s 42ms/step - loss: 0.0581 - accuracy: 1.0000 - val_loss: 0.1063 - val_accuracy: 1.0000\n",
      "Epoch 119/200\n",
      "3/3 [==============================] - 0s 43ms/step - loss: 0.0553 - accuracy: 1.0000 - val_loss: 0.1315 - val_accuracy: 0.9500\n",
      "Epoch 120/200\n",
      "3/3 [==============================] - 0s 38ms/step - loss: 0.0543 - accuracy: 1.0000 - val_loss: 0.1066 - val_accuracy: 1.0000\n",
      "Epoch 121/200\n",
      "3/3 [==============================] - 0s 36ms/step - loss: 0.0536 - accuracy: 1.0000 - val_loss: 0.1391 - val_accuracy: 0.9000\n",
      "Epoch 122/200\n",
      "3/3 [==============================] - 0s 37ms/step - loss: 0.1040 - accuracy: 1.0000 - val_loss: 0.1731 - val_accuracy: 0.9500\n",
      "Epoch 123/200\n",
      "3/3 [==============================] - 0s 36ms/step - loss: 0.0758 - accuracy: 0.9875 - val_loss: 0.1046 - val_accuracy: 1.0000\n",
      "Epoch 124/200\n",
      "3/3 [==============================] - 0s 37ms/step - loss: 0.0513 - accuracy: 1.0000 - val_loss: 0.1163 - val_accuracy: 0.9500\n",
      "Epoch 125/200\n",
      "3/3 [==============================] - 0s 44ms/step - loss: 0.0522 - accuracy: 1.0000 - val_loss: 0.1646 - val_accuracy: 0.9500\n",
      "Epoch 126/200\n",
      "3/3 [==============================] - 0s 34ms/step - loss: 0.0651 - accuracy: 1.0000 - val_loss: 0.1552 - val_accuracy: 0.9500\n",
      "Epoch 127/200\n",
      "3/3 [==============================] - 0s 38ms/step - loss: 0.0527 - accuracy: 1.0000 - val_loss: 0.1111 - val_accuracy: 0.9500\n",
      "Epoch 128/200\n",
      "3/3 [==============================] - 0s 40ms/step - loss: 0.0503 - accuracy: 1.0000 - val_loss: 0.1072 - val_accuracy: 1.0000\n",
      "Epoch 129/200\n",
      "3/3 [==============================] - 0s 35ms/step - loss: 0.0631 - accuracy: 0.9875 - val_loss: 0.1161 - val_accuracy: 0.9500\n",
      "Epoch 130/200\n",
      "3/3 [==============================] - 0s 35ms/step - loss: 0.0473 - accuracy: 1.0000 - val_loss: 0.1026 - val_accuracy: 1.0000\n",
      "Epoch 131/200\n",
      "3/3 [==============================] - 0s 44ms/step - loss: 0.0463 - accuracy: 1.0000 - val_loss: 0.1075 - val_accuracy: 0.9500\n",
      "Epoch 132/200\n",
      "3/3 [==============================] - 0s 36ms/step - loss: 0.0467 - accuracy: 1.0000 - val_loss: 0.1017 - val_accuracy: 1.0000\n",
      "Epoch 133/200\n",
      "3/3 [==============================] - 0s 39ms/step - loss: 0.0449 - accuracy: 1.0000 - val_loss: 0.2231 - val_accuracy: 0.9000\n",
      "Epoch 134/200\n",
      "3/3 [==============================] - 0s 37ms/step - loss: 0.0611 - accuracy: 1.0000 - val_loss: 0.1048 - val_accuracy: 0.9500\n",
      "Epoch 135/200\n",
      "3/3 [==============================] - 0s 42ms/step - loss: 0.0477 - accuracy: 1.0000 - val_loss: 0.1353 - val_accuracy: 0.9000\n",
      "Epoch 136/200\n",
      "3/3 [==============================] - 0s 42ms/step - loss: 0.0499 - accuracy: 1.0000 - val_loss: 0.1050 - val_accuracy: 0.9500\n",
      "Epoch 137/200\n",
      "3/3 [==============================] - 0s 39ms/step - loss: 0.0491 - accuracy: 1.0000 - val_loss: 0.2276 - val_accuracy: 0.9000\n",
      "Epoch 138/200\n",
      "3/3 [==============================] - 0s 38ms/step - loss: 0.1076 - accuracy: 0.9625 - val_loss: 0.0971 - val_accuracy: 1.0000\n",
      "Epoch 139/200\n",
      "3/3 [==============================] - 0s 38ms/step - loss: 0.0480 - accuracy: 1.0000 - val_loss: 0.5442 - val_accuracy: 0.7000\n",
      "Epoch 140/200\n",
      "3/3 [==============================] - 0s 37ms/step - loss: 1.5000 - accuracy: 0.6000 - val_loss: 0.2209 - val_accuracy: 0.9000\n",
      "Epoch 141/200\n",
      "3/3 [==============================] - 0s 43ms/step - loss: 0.1878 - accuracy: 0.9250 - val_loss: 0.1389 - val_accuracy: 0.9500\n",
      "Epoch 142/200\n",
      "3/3 [==============================] - 0s 40ms/step - loss: 0.0773 - accuracy: 1.0000 - val_loss: 0.1614 - val_accuracy: 0.9000\n",
      "Epoch 143/200\n",
      "3/3 [==============================] - 0s 40ms/step - loss: 0.0911 - accuracy: 0.9750 - val_loss: 0.1134 - val_accuracy: 1.0000\n",
      "Epoch 144/200\n",
      "3/3 [==============================] - 0s 45ms/step - loss: 0.0576 - accuracy: 1.0000 - val_loss: 0.1186 - val_accuracy: 0.9500\n",
      "Epoch 145/200\n",
      "3/3 [==============================] - 0s 42ms/step - loss: 0.0535 - accuracy: 1.0000 - val_loss: 0.1154 - val_accuracy: 0.9500\n",
      "Epoch 146/200\n",
      "3/3 [==============================] - 0s 37ms/step - loss: 0.0542 - accuracy: 1.0000 - val_loss: 0.1159 - val_accuracy: 0.9500\n",
      "Epoch 147/200\n",
      "3/3 [==============================] - 0s 37ms/step - loss: 0.0557 - accuracy: 1.0000 - val_loss: 0.1306 - val_accuracy: 0.9000\n",
      "Epoch 148/200\n",
      "3/3 [==============================] - 0s 43ms/step - loss: 0.0628 - accuracy: 0.9875 - val_loss: 0.1161 - val_accuracy: 0.9500\n",
      "Epoch 149/200\n",
      "3/3 [==============================] - 0s 35ms/step - loss: 0.0476 - accuracy: 1.0000 - val_loss: 0.1150 - val_accuracy: 0.9500\n",
      "Epoch 150/200\n",
      "3/3 [==============================] - 0s 37ms/step - loss: 0.0437 - accuracy: 1.0000 - val_loss: 0.1051 - val_accuracy: 1.0000\n",
      "Epoch 151/200\n",
      "3/3 [==============================] - 0s 37ms/step - loss: 0.0476 - accuracy: 1.0000 - val_loss: 0.1183 - val_accuracy: 0.9000\n",
      "Epoch 152/200\n",
      "3/3 [==============================] - 0s 37ms/step - loss: 0.0517 - accuracy: 1.0000 - val_loss: 0.1020 - val_accuracy: 1.0000\n",
      "Epoch 153/200\n",
      "3/3 [==============================] - 0s 39ms/step - loss: 0.0402 - accuracy: 1.0000 - val_loss: 0.1017 - val_accuracy: 1.0000\n",
      "Epoch 154/200\n",
      "3/3 [==============================] - 0s 36ms/step - loss: 0.0392 - accuracy: 1.0000 - val_loss: 0.1001 - val_accuracy: 1.0000\n",
      "Epoch 155/200\n",
      "3/3 [==============================] - 0s 38ms/step - loss: 0.0391 - accuracy: 1.0000 - val_loss: 0.1247 - val_accuracy: 0.9500\n",
      "Epoch 156/200\n",
      "3/3 [==============================] - 0s 35ms/step - loss: 0.0444 - accuracy: 1.0000 - val_loss: 0.1023 - val_accuracy: 1.0000\n",
      "Epoch 157/200\n",
      "3/3 [==============================] - 0s 38ms/step - loss: 0.0413 - accuracy: 1.0000 - val_loss: 0.1064 - val_accuracy: 0.9500\n",
      "Epoch 158/200\n",
      "3/3 [==============================] - 0s 39ms/step - loss: 0.0370 - accuracy: 1.0000 - val_loss: 0.1012 - val_accuracy: 1.0000\n",
      "Epoch 159/200\n",
      "3/3 [==============================] - 0s 38ms/step - loss: 0.0352 - accuracy: 1.0000 - val_loss: 0.0970 - val_accuracy: 1.0000\n",
      "Epoch 160/200\n",
      "3/3 [==============================] - 0s 42ms/step - loss: 0.0361 - accuracy: 1.0000 - val_loss: 0.0959 - val_accuracy: 1.0000\n",
      "Epoch 161/200\n",
      "3/3 [==============================] - 0s 35ms/step - loss: 0.0355 - accuracy: 1.0000 - val_loss: 0.0953 - val_accuracy: 1.0000\n",
      "Epoch 162/200\n",
      "3/3 [==============================] - 0s 38ms/step - loss: 0.0361 - accuracy: 1.0000 - val_loss: 0.0936 - val_accuracy: 1.0000\n",
      "Epoch 163/200\n",
      "3/3 [==============================] - 0s 36ms/step - loss: 0.0332 - accuracy: 1.0000 - val_loss: 0.0949 - val_accuracy: 1.0000\n",
      "Epoch 164/200\n",
      "3/3 [==============================] - 0s 38ms/step - loss: 0.0326 - accuracy: 1.0000 - val_loss: 0.0970 - val_accuracy: 1.0000\n",
      "Epoch 165/200\n",
      "3/3 [==============================] - 0s 32ms/step - loss: 0.0328 - accuracy: 1.0000 - val_loss: 0.0955 - val_accuracy: 0.9500\n",
      "Epoch 166/200\n",
      "3/3 [==============================] - 0s 36ms/step - loss: 0.0334 - accuracy: 1.0000 - val_loss: 0.0914 - val_accuracy: 1.0000\n",
      "Epoch 167/200\n",
      "3/3 [==============================] - 0s 34ms/step - loss: 0.0307 - accuracy: 1.0000 - val_loss: 0.1016 - val_accuracy: 0.9500\n",
      "Epoch 168/200\n",
      "3/3 [==============================] - 0s 38ms/step - loss: 0.0316 - accuracy: 1.0000 - val_loss: 0.0934 - val_accuracy: 1.0000\n",
      "Epoch 169/200\n",
      "3/3 [==============================] - 0s 34ms/step - loss: 0.0299 - accuracy: 1.0000 - val_loss: 0.0930 - val_accuracy: 1.0000\n",
      "Epoch 170/200\n",
      "3/3 [==============================] - 0s 37ms/step - loss: 0.0370 - accuracy: 1.0000 - val_loss: 0.1083 - val_accuracy: 0.9500\n",
      "Epoch 171/200\n",
      "3/3 [==============================] - 0s 36ms/step - loss: 0.0381 - accuracy: 1.0000 - val_loss: 0.0886 - val_accuracy: 1.0000\n",
      "Epoch 172/200\n",
      "3/3 [==============================] - 0s 35ms/step - loss: 0.0320 - accuracy: 1.0000 - val_loss: 0.0880 - val_accuracy: 1.0000\n",
      "Epoch 173/200\n",
      "3/3 [==============================] - 0s 37ms/step - loss: 0.0295 - accuracy: 1.0000 - val_loss: 0.0897 - val_accuracy: 1.0000\n",
      "Epoch 174/200\n",
      "3/3 [==============================] - 0s 36ms/step - loss: 0.0338 - accuracy: 1.0000 - val_loss: 0.0878 - val_accuracy: 1.0000\n"
     ]
    },
    {
     "name": "stdout",
     "output_type": "stream",
     "text": [
      "Epoch 175/200\n",
      "3/3 [==============================] - 0s 39ms/step - loss: 0.0274 - accuracy: 1.0000 - val_loss: 0.0871 - val_accuracy: 1.0000\n",
      "Epoch 176/200\n",
      "3/3 [==============================] - 0s 40ms/step - loss: 0.0273 - accuracy: 1.0000 - val_loss: 0.0891 - val_accuracy: 1.0000\n",
      "Epoch 177/200\n",
      "3/3 [==============================] - 0s 38ms/step - loss: 0.0304 - accuracy: 1.0000 - val_loss: 0.0891 - val_accuracy: 1.0000\n",
      "Epoch 178/200\n",
      "3/3 [==============================] - 0s 35ms/step - loss: 0.0280 - accuracy: 1.0000 - val_loss: 0.0858 - val_accuracy: 1.0000\n",
      "Epoch 179/200\n",
      "3/3 [==============================] - 0s 34ms/step - loss: 0.0262 - accuracy: 1.0000 - val_loss: 0.0937 - val_accuracy: 0.9500\n",
      "Epoch 180/200\n",
      "3/3 [==============================] - 0s 42ms/step - loss: 0.0256 - accuracy: 1.0000 - val_loss: 0.0939 - val_accuracy: 0.9500\n",
      "Epoch 181/200\n",
      "3/3 [==============================] - 0s 39ms/step - loss: 0.0276 - accuracy: 1.0000 - val_loss: 0.0917 - val_accuracy: 1.0000\n",
      "Epoch 182/200\n",
      "3/3 [==============================] - 0s 36ms/step - loss: 0.0264 - accuracy: 1.0000 - val_loss: 0.0859 - val_accuracy: 1.0000\n",
      "Epoch 183/200\n",
      "3/3 [==============================] - 0s 39ms/step - loss: 0.0247 - accuracy: 1.0000 - val_loss: 0.0837 - val_accuracy: 1.0000\n",
      "Epoch 184/200\n",
      "3/3 [==============================] - 0s 41ms/step - loss: 0.0268 - accuracy: 1.0000 - val_loss: 0.0910 - val_accuracy: 0.9500\n",
      "Epoch 185/200\n",
      "3/3 [==============================] - 0s 45ms/step - loss: 0.0298 - accuracy: 1.0000 - val_loss: 0.0899 - val_accuracy: 0.9500\n",
      "Epoch 186/200\n",
      "3/3 [==============================] - 0s 36ms/step - loss: 0.0314 - accuracy: 1.0000 - val_loss: 0.0848 - val_accuracy: 1.0000\n",
      "Epoch 187/200\n",
      "3/3 [==============================] - 0s 33ms/step - loss: 0.0248 - accuracy: 1.0000 - val_loss: 0.0879 - val_accuracy: 1.0000\n",
      "Epoch 188/200\n",
      "3/3 [==============================] - 0s 36ms/step - loss: 0.0255 - accuracy: 1.0000 - val_loss: 0.0876 - val_accuracy: 1.0000\n",
      "Epoch 189/200\n",
      "3/3 [==============================] - 0s 36ms/step - loss: 0.0237 - accuracy: 1.0000 - val_loss: 0.0841 - val_accuracy: 1.0000\n",
      "Epoch 190/200\n",
      "3/3 [==============================] - 0s 36ms/step - loss: 0.0226 - accuracy: 1.0000 - val_loss: 0.0838 - val_accuracy: 1.0000\n",
      "Epoch 191/200\n",
      "3/3 [==============================] - 0s 35ms/step - loss: 0.0244 - accuracy: 1.0000 - val_loss: 0.0820 - val_accuracy: 1.0000\n",
      "Epoch 192/200\n",
      "3/3 [==============================] - 0s 44ms/step - loss: 0.0226 - accuracy: 1.0000 - val_loss: 0.0915 - val_accuracy: 0.9500\n",
      "Epoch 193/200\n",
      "3/3 [==============================] - 0s 35ms/step - loss: 0.0244 - accuracy: 1.0000 - val_loss: 0.1053 - val_accuracy: 0.9500\n",
      "Epoch 194/200\n",
      "3/3 [==============================] - 0s 38ms/step - loss: 0.0243 - accuracy: 1.0000 - val_loss: 0.0808 - val_accuracy: 1.0000\n",
      "Epoch 195/200\n",
      "3/3 [==============================] - 0s 35ms/step - loss: 0.0222 - accuracy: 1.0000 - val_loss: 0.0804 - val_accuracy: 1.0000\n",
      "Epoch 196/200\n",
      "3/3 [==============================] - 0s 40ms/step - loss: 0.0239 - accuracy: 1.0000 - val_loss: 0.0967 - val_accuracy: 0.9500\n",
      "Epoch 197/200\n",
      "3/3 [==============================] - 0s 36ms/step - loss: 0.0341 - accuracy: 1.0000 - val_loss: 0.0810 - val_accuracy: 1.0000\n",
      "Epoch 198/200\n",
      "3/3 [==============================] - 0s 37ms/step - loss: 0.0216 - accuracy: 1.0000 - val_loss: 0.0845 - val_accuracy: 1.0000\n",
      "Epoch 199/200\n",
      "3/3 [==============================] - 0s 37ms/step - loss: 0.0219 - accuracy: 1.0000 - val_loss: 0.0982 - val_accuracy: 0.9500\n",
      "Epoch 200/200\n",
      "3/3 [==============================] - 0s 36ms/step - loss: 0.0264 - accuracy: 1.0000 - val_loss: 0.0959 - val_accuracy: 0.9500\n"
     ]
    }
   ],
   "source": [
    "H = model.fit(x_train, y_train, validation_data=(x_test, y_test), \n",
    "          epochs=max_epochs, batch_size=32)"
   ]
  },
  {
   "cell_type": "code",
   "execution_count": 38,
   "metadata": {},
   "outputs": [
    {
     "data": {
      "image/png": "[encoded data removed]",
      "text/plain": [
       "<Figure size 432x288 with 1 Axes>"
      ]
     },
     "metadata": {},
     "output_type": "display_data"
    }
   ],
   "source": [
    "N = np.arange(0, max_epochs)\n",
    "plt.style.use(\"ggplot\")\n",
    "plt.figure()\n",
    "plt.plot(N, H.history[\"loss\"], label=\"train_loss\")\n",
    "plt.plot(N, H.history[\"val_loss\"], label=\"val_loss\")\n",
    "#plt.plot(N, H.history[\"accuracy\"], label=\"train_acc\")\n",
    "#plt.plot(N, H.history[\"val_accuracy\"], label=\"val_acc\")\n",
    "plt.xlabel(\"Epoch #\")\n",
    "plt.legend()\n",
    "plt.show()"
   ]
  },
  {
   "cell_type": "code",
   "execution_count": 39,
   "metadata": {},
   "outputs": [
    {
     "name": "stdout",
     "output_type": "stream",
     "text": [
      "              precision    recall  f1-score   support\n",
      "\n",
      "      Nangka       0.92      1.00      0.96        12\n",
      "      Pepaya       1.00      0.88      0.93         8\n",
      "\n",
      "    accuracy                           0.95        20\n",
      "   macro avg       0.96      0.94      0.95        20\n",
      "weighted avg       0.95      0.95      0.95        20\n",
      "\n"
     ]
    }
   ],
   "source": [
    "# menghitung nilai akurasi model terhadap data test\n",
    "predictions = model.predict(x_test, batch_size=32)\n",
    "target = (predictions > 0.5).astype(np.int)\n",
    "print(classification_report(y_test, target, target_names=label_list))"
   ]
  },
  {
   "cell_type": "code",
   "execution_count": 44,
   "metadata": {},
   "outputs": [
    {
     "name": "stdout",
     "output_type": "stream",
     "text": [
      "[[0.9661652]]\n"
     ]
    }
   ],
   "source": [
    "# uji model menggunakan image lain\n",
    "queryPath = imagePaths+'query_pepaya.jpg'\n",
    "query = cv2.imread(queryPath)\n",
    "output = query.copy()\n",
    "query = cv2.resize(query, (32, 32))\n",
    "q = []\n",
    "q.append(query)\n",
    "q = np.array(q, dtype='float') / 255.0\n",
    "\n",
    "q_pred = model.predict(q)\n",
    "print(q_pred)"
   ]
  },
  {
   "cell_type": "code",
   "execution_count": 45,
   "metadata": {},
   "outputs": [
    {
     "ename": "error",
     "evalue": "OpenCV(4.5.4-dev) D:\\a\\opencv-python\\opencv-python\\opencv\\modules\\highgui\\src\\window_w32.cpp:1261: error: (-27:Null pointer) NULL window: 'Output' in function 'cvDestroyWindow'\n",
     "output_type": "error",
     "traceback": [
      "\u001b[1;31m---------------------------------------------------------------------------\u001b[0m",
      "\u001b[1;31merror\u001b[0m                                     Traceback (most recent call last)",
      "\u001b[1;32m~\\AppData\\Local\\Temp/ipykernel_15124/3151627741.py\u001b[0m in \u001b[0;36m<module>\u001b[1;34m\u001b[0m\n\u001b[0;32m      9\u001b[0m \u001b[0mcv2\u001b[0m\u001b[1;33m.\u001b[0m\u001b[0mimshow\u001b[0m\u001b[1;33m(\u001b[0m\u001b[1;34m'Output'\u001b[0m\u001b[1;33m,\u001b[0m \u001b[0moutput\u001b[0m\u001b[1;33m)\u001b[0m\u001b[1;33m\u001b[0m\u001b[1;33m\u001b[0m\u001b[0m\n\u001b[0;32m     10\u001b[0m \u001b[0mcv2\u001b[0m\u001b[1;33m.\u001b[0m\u001b[0mwaitKey\u001b[0m\u001b[1;33m(\u001b[0m\u001b[1;33m)\u001b[0m \u001b[1;31m# image tidak akan diclose,sebelum user menekan sembarang tombol\u001b[0m\u001b[1;33m\u001b[0m\u001b[1;33m\u001b[0m\u001b[0m\n\u001b[1;32m---> 11\u001b[1;33m \u001b[0mcv2\u001b[0m\u001b[1;33m.\u001b[0m\u001b[0mdestroyWindow\u001b[0m\u001b[1;33m(\u001b[0m\u001b[1;34m'Output'\u001b[0m\u001b[1;33m)\u001b[0m \u001b[1;31m# image akan diclose\u001b[0m\u001b[1;33m\u001b[0m\u001b[1;33m\u001b[0m\u001b[0m\n\u001b[0m",
      "\u001b[1;31merror\u001b[0m: OpenCV(4.5.4-dev) D:\\a\\opencv-python\\opencv-python\\opencv\\modules\\highgui\\src\\window_w32.cpp:1261: error: (-27:Null pointer) NULL window: 'Output' in function 'cvDestroyWindow'\n"
     ]
    }
   ],
   "source": [
    "if q_pred<=0.5 :\n",
    "    target = \"Nangka\"\n",
    "else :\n",
    "    target = \"Pepaya\"\n",
    "text = \"{}\".format(target)\n",
    "cv2.putText(output, text, (10, 30), cv2.FONT_HERSHEY_SIMPLEX, 0.7, (0, 0, 255), 2)\n",
    " \n",
    "# menampilkan output image\n",
    "cv2.imshow('Output', output)\n",
    "cv2.waitKey() # image tidak akan diclose,sebelum user menekan sembarang tombol\n",
    "cv2.destroyWindow('Output') # image akan diclose"
   ]
  },
  {
   "cell_type": "code",
   "execution_count": null,
   "metadata": {},
   "outputs": [],
   "source": []
  }
 ],
 "metadata": {
  "interpreter": {
   "hash": "ac59ebe37160ed0dfa835113d9b8498d9f09ceb179beaac4002f036b9467c963"
  },
  "kernelspec": {
   "display_name": "Python 3 (ipykernel)",
   "language": "python",
   "name": "python3"
  },
  "language_info": {
   "codemirror_mode": {
    "name": "ipython",
    "version": 3
   },
   "file_extension": ".py",
   "mimetype": "text/x-python",
   "name": "python",
   "nbconvert_exporter": "python",
   "pygments_lexer": "ipython3",
   "version": "3.9.0"
  }
 },
 "nbformat": 4,
 "nbformat_minor": 2
}
