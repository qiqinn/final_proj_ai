{
 "cells": [
  {
   "cell_type": "code",
   "execution_count": 2,
   "metadata": {},
   "outputs": [],
   "source": [
    "from sklearn.model_selection import train_test_split\n",
    "from sklearn.preprocessing import LabelEncoder\n",
    "from sklearn.metrics import classification_report\n",
    "from tensorflow.keras.models import Sequential\n",
    "from tensorflow.keras.layers import Flatten, Dense\n",
    "from tensorflow.keras.optimizers import SGD\n",
    "import numpy as np\n",
    "import cv2\n",
    "import glob\n",
    "import matplotlib.pyplot as plt"
   ]
  },
  {
   "cell_type": "code",
   "execution_count": 3,
   "metadata": {},
   "outputs": [
    {
     "name": "stdout",
     "output_type": "stream",
     "text": [
      "daun\n"
     ]
    }
   ],
   "source": [
    "imagePaths = 'Dataset\\\\'\n",
    "label_list = ['Nangka', 'Pepaya']\n",
    "data = []\n",
    "labels = []\n",
    "\n",
    "print('daun')"
   ]
  },
  {
   "cell_type": "code",
   "execution_count": 4,
   "metadata": {},
   "outputs": [
    {
     "name": "stdout",
     "output_type": "stream",
     "text": [
      "Dataset\\Nangka\\001.jpg\n",
      "Dataset\\Nangka\\002.jpg\n",
      "Dataset\\Nangka\\003.jpg\n",
      "Dataset\\Nangka\\004.jpg\n",
      "Dataset\\Nangka\\005.jpg\n",
      "Dataset\\Nangka\\006.jpg\n",
      "Dataset\\Nangka\\007.jpg\n",
      "Dataset\\Nangka\\008.jpg\n",
      "Dataset\\Nangka\\009.jpg\n",
      "Dataset\\Nangka\\010.jpg\n",
      "Dataset\\Nangka\\011.jpg\n",
      "Dataset\\Nangka\\012.jpg\n",
      "Dataset\\Nangka\\013.jpg\n",
      "Dataset\\Nangka\\014.jpg\n",
      "Dataset\\Nangka\\015.jpg\n",
      "Dataset\\Nangka\\016.jpg\n",
      "Dataset\\Nangka\\017.jpg\n",
      "Dataset\\Nangka\\018.jpg\n",
      "Dataset\\Nangka\\019.jpg\n",
      "Dataset\\Nangka\\020.jpg\n",
      "Dataset\\Nangka\\021.jpg\n",
      "Dataset\\Nangka\\022.jpg\n",
      "Dataset\\Nangka\\023.jpg\n",
      "Dataset\\Nangka\\024.jpg\n",
      "Dataset\\Nangka\\025.jpg\n",
      "Dataset\\Nangka\\026.jpg\n",
      "Dataset\\Nangka\\027.jpg\n",
      "Dataset\\Nangka\\028.jpg\n",
      "Dataset\\Nangka\\029.jpg\n",
      "Dataset\\Nangka\\030.jpg\n",
      "Dataset\\Nangka\\031.jpg\n",
      "Dataset\\Nangka\\032.jpg\n",
      "Dataset\\Nangka\\033.jpg\n",
      "Dataset\\Nangka\\034.jpg\n",
      "Dataset\\Nangka\\035.jpg\n",
      "Dataset\\Nangka\\036.jpg\n",
      "Dataset\\Nangka\\037.jpg\n",
      "Dataset\\Nangka\\038.jpg\n",
      "Dataset\\Nangka\\039.jpg\n",
      "Dataset\\Nangka\\040.jpg\n",
      "Dataset\\Nangka\\041.jpg\n",
      "Dataset\\Nangka\\042.jpg\n",
      "Dataset\\Nangka\\043.jpg\n",
      "Dataset\\Nangka\\044.jpg\n",
      "Dataset\\Nangka\\045.jpg\n",
      "Dataset\\Nangka\\046.jpg\n",
      "Dataset\\Nangka\\047.jpg\n",
      "Dataset\\Nangka\\048.jpg\n",
      "Dataset\\Nangka\\049.jpg\n",
      "Dataset\\Nangka\\050.jpg\n",
      "Dataset\\Pepaya\\001.jpg\n",
      "Dataset\\Pepaya\\002.jpg\n",
      "Dataset\\Pepaya\\003.jpg\n",
      "Dataset\\Pepaya\\004.jpg\n",
      "Dataset\\Pepaya\\005.jpg\n",
      "Dataset\\Pepaya\\006.jpg\n",
      "Dataset\\Pepaya\\007.jpg\n",
      "Dataset\\Pepaya\\008.jpg\n",
      "Dataset\\Pepaya\\009.jpg\n",
      "Dataset\\Pepaya\\010.jpg\n",
      "Dataset\\Pepaya\\011.jpg\n",
      "Dataset\\Pepaya\\012.jpg\n",
      "Dataset\\Pepaya\\013.jpg\n",
      "Dataset\\Pepaya\\014.jpg\n",
      "Dataset\\Pepaya\\015.jpg\n",
      "Dataset\\Pepaya\\016.jpg\n",
      "Dataset\\Pepaya\\017.jpg\n",
      "Dataset\\Pepaya\\018.jpg\n",
      "Dataset\\Pepaya\\019.jpg\n",
      "Dataset\\Pepaya\\020.jpg\n",
      "Dataset\\Pepaya\\021.jpg\n",
      "Dataset\\Pepaya\\022.jpg\n",
      "Dataset\\Pepaya\\023.jpg\n",
      "Dataset\\Pepaya\\024.jpg\n",
      "Dataset\\Pepaya\\025.jpg\n",
      "Dataset\\Pepaya\\026.jpg\n",
      "Dataset\\Pepaya\\027.jpg\n",
      "Dataset\\Pepaya\\028.jpg\n",
      "Dataset\\Pepaya\\029.jpg\n",
      "Dataset\\Pepaya\\030.jpg\n",
      "Dataset\\Pepaya\\031.jpg\n",
      "Dataset\\Pepaya\\032.jpg\n",
      "Dataset\\Pepaya\\033.jpg\n",
      "Dataset\\Pepaya\\034.jpg\n",
      "Dataset\\Pepaya\\035.jpg\n",
      "Dataset\\Pepaya\\036.jpg\n",
      "Dataset\\Pepaya\\037.jpg\n",
      "Dataset\\Pepaya\\038.jpg\n",
      "Dataset\\Pepaya\\039.jpg\n",
      "Dataset\\Pepaya\\040.jpg\n",
      "Dataset\\Pepaya\\041.jpg\n",
      "Dataset\\Pepaya\\042.jpg\n",
      "Dataset\\Pepaya\\043.jpg\n",
      "Dataset\\Pepaya\\044.jpg\n",
      "Dataset\\Pepaya\\045.jpg\n",
      "Dataset\\Pepaya\\046.jpg\n",
      "Dataset\\Pepaya\\047.jpg\n",
      "Dataset\\Pepaya\\048.jpg\n",
      "Dataset\\Pepaya\\049.jpg\n",
      "Dataset\\Pepaya\\050.jpg\n"
     ]
    }
   ],
   "source": [
    "for label in label_list:\n",
    "    for imagePath in glob.glob(imagePaths+label+'\\\\*.jpg'):\n",
    "        print(imagePath)\n",
    "        image = cv2.imread(imagePath)\n",
    "        image = cv2.resize(image, (32, 32))\n",
    "        data.append(image)\n",
    "        labels.append(label)"
   ]
  },
  {
   "cell_type": "code",
   "execution_count": 5,
   "metadata": {},
   "outputs": [
    {
     "data": {
      "text/plain": [
       "(100, 32, 32, 3)"
      ]
     },
     "execution_count": 5,
     "metadata": {},
     "output_type": "execute_result"
    }
   ],
   "source": [
    "np.array(data).shape"
   ]
  },
  {
   "cell_type": "code",
   "execution_count": 6,
   "metadata": {},
   "outputs": [],
   "source": [
    "# ubah type data dari list menjadi array\n",
    "# ubah nilai dari tiap pixel menjadi range [0..1]\n",
    "data = np.array(data, dtype='float') / 255.0\n",
    "labels = np.array(labels)"
   ]
  },
  {
   "cell_type": "code",
   "execution_count": 7,
   "metadata": {},
   "outputs": [
    {
     "name": "stdout",
     "output_type": "stream",
     "text": [
      "['Nangka' 'Nangka' 'Nangka' 'Nangka' 'Nangka' 'Nangka' 'Nangka' 'Nangka'\n",
      " 'Nangka' 'Nangka' 'Nangka' 'Nangka' 'Nangka' 'Nangka' 'Nangka' 'Nangka'\n",
      " 'Nangka' 'Nangka' 'Nangka' 'Nangka' 'Nangka' 'Nangka' 'Nangka' 'Nangka'\n",
      " 'Nangka' 'Nangka' 'Nangka' 'Nangka' 'Nangka' 'Nangka' 'Nangka' 'Nangka'\n",
      " 'Nangka' 'Nangka' 'Nangka' 'Nangka' 'Nangka' 'Nangka' 'Nangka' 'Nangka'\n",
      " 'Nangka' 'Nangka' 'Nangka' 'Nangka' 'Nangka' 'Nangka' 'Nangka' 'Nangka'\n",
      " 'Nangka' 'Nangka' 'Pepaya' 'Pepaya' 'Pepaya' 'Pepaya' 'Pepaya' 'Pepaya'\n",
      " 'Pepaya' 'Pepaya' 'Pepaya' 'Pepaya' 'Pepaya' 'Pepaya' 'Pepaya' 'Pepaya'\n",
      " 'Pepaya' 'Pepaya' 'Pepaya' 'Pepaya' 'Pepaya' 'Pepaya' 'Pepaya' 'Pepaya'\n",
      " 'Pepaya' 'Pepaya' 'Pepaya' 'Pepaya' 'Pepaya' 'Pepaya' 'Pepaya' 'Pepaya'\n",
      " 'Pepaya' 'Pepaya' 'Pepaya' 'Pepaya' 'Pepaya' 'Pepaya' 'Pepaya' 'Pepaya'\n",
      " 'Pepaya' 'Pepaya' 'Pepaya' 'Pepaya' 'Pepaya' 'Pepaya' 'Pepaya' 'Pepaya'\n",
      " 'Pepaya' 'Pepaya' 'Pepaya' 'Pepaya']\n"
     ]
    }
   ],
   "source": [
    "print(labels)"
   ]
  },
  {
   "cell_type": "code",
   "execution_count": 8,
   "metadata": {},
   "outputs": [
    {
     "name": "stdout",
     "output_type": "stream",
     "text": [
      "[0 0 0 0 0 0 0 0 0 0 0 0 0 0 0 0 0 0 0 0 0 0 0 0 0 0 0 0 0 0 0 0 0 0 0 0 0\n",
      " 0 0 0 0 0 0 0 0 0 0 0 0 0 1 1 1 1 1 1 1 1 1 1 1 1 1 1 1 1 1 1 1 1 1 1 1 1\n",
      " 1 1 1 1 1 1 1 1 1 1 1 1 1 1 1 1 1 1 1 1 1 1 1 1 1 1]\n"
     ]
    }
   ],
   "source": [
    "lb = LabelEncoder()\n",
    "labels = lb.fit_transform(labels)\n",
    "print(labels)"
   ]
  },
  {
   "cell_type": "code",
   "execution_count": 9,
   "metadata": {},
   "outputs": [],
   "source": [
    "x_train, x_test, y_train, y_test = train_test_split(data, labels, test_size=0.2, random_state=42)"
   ]
  },
  {
   "cell_type": "code",
   "execution_count": 10,
   "metadata": {},
   "outputs": [
    {
     "name": "stdout",
     "output_type": "stream",
     "text": [
      "Ukuran data train = (80, 32, 32, 3)\n",
      "Ukuran data test = (20, 32, 32, 3)\n"
     ]
    }
   ],
   "source": [
    "print('Ukuran data train =', x_train.shape)\n",
    "print('Ukuran data test =', x_test.shape)"
   ]
  },
  {
   "cell_type": "code",
   "execution_count": 11,
   "metadata": {},
   "outputs": [],
   "source": [
    "model = Sequential()\n",
    "model.add(Flatten(input_shape=(32,32,3)))\n",
    "model.add(Dense(1024, activation=\"relu\"))\n",
    "model.add(Dense(1024, activation=\"relu\"))\n",
    "model.add(Dense(1, activation=\"sigmoid\"))"
   ]
  },
  {
   "cell_type": "code",
   "execution_count": 12,
   "metadata": {},
   "outputs": [
    {
     "name": "stdout",
     "output_type": "stream",
     "text": [
      "Model: \"sequential\"\n",
      "_________________________________________________________________\n",
      " Layer (type)                Output Shape              Param #   \n",
      "=================================================================\n",
      " flatten (Flatten)           (None, 3072)              0         \n",
      "                                                                 \n",
      " dense (Dense)               (None, 1024)              3146752   \n",
      "                                                                 \n",
      " dense_1 (Dense)             (None, 1024)              1049600   \n",
      "                                                                 \n",
      " dense_2 (Dense)             (None, 1)                 1025      \n",
      "                                                                 \n",
      "=================================================================\n",
      "Total params: 4,197,377\n",
      "Trainable params: 4,197,377\n",
      "Non-trainable params: 0\n",
      "_________________________________________________________________\n"
     ]
    }
   ],
   "source": [
    "model.summary()"
   ]
  },
  {
   "cell_type": "code",
   "execution_count": 13,
   "metadata": {},
   "outputs": [],
   "source": [
    "# tentukan hyperparameter\n",
    "lr = 0.01\n",
    "max_epochs = 100\n",
    "opt_funct = SGD(learning_rate=lr)"
   ]
  },
  {
   "cell_type": "code",
   "execution_count": 14,
   "metadata": {},
   "outputs": [],
   "source": [
    "# compile arsitektur yang telah dibuat\n",
    "model.compile(loss = 'binary_crossentropy', \n",
    "              optimizer = opt_funct, \n",
    "              metrics = ['accuracy'])"
   ]
  },
  {
   "cell_type": "code",
   "execution_count": 15,
   "metadata": {},
   "outputs": [
    {
     "name": "stdout",
     "output_type": "stream",
     "text": [
      "Epoch 1/100\n",
      "3/3 [==============================] - 0s 84ms/step - loss: 0.9920 - accuracy: 0.5000 - val_loss: 0.7049 - val_accuracy: 0.6000\n",
      "Epoch 2/100\n",
      "3/3 [==============================] - 0s 32ms/step - loss: 0.7037 - accuracy: 0.6125 - val_loss: 0.6600 - val_accuracy: 0.6000\n",
      "Epoch 3/100\n",
      "3/3 [==============================] - 0s 30ms/step - loss: 0.7396 - accuracy: 0.5000 - val_loss: 0.7124 - val_accuracy: 0.4000\n",
      "Epoch 4/100\n",
      "3/3 [==============================] - 0s 30ms/step - loss: 0.6409 - accuracy: 0.5375 - val_loss: 0.4905 - val_accuracy: 0.7000\n",
      "Epoch 5/100\n",
      "3/3 [==============================] - 0s 29ms/step - loss: 0.5365 - accuracy: 0.7375 - val_loss: 0.6823 - val_accuracy: 0.4000\n",
      "Epoch 6/100\n",
      "3/3 [==============================] - 0s 30ms/step - loss: 0.4990 - accuracy: 0.7625 - val_loss: 0.4680 - val_accuracy: 0.8500\n",
      "Epoch 7/100\n",
      "3/3 [==============================] - 0s 33ms/step - loss: 0.5483 - accuracy: 0.6875 - val_loss: 0.6549 - val_accuracy: 0.6000\n",
      "Epoch 8/100\n",
      "3/3 [==============================] - 0s 30ms/step - loss: 0.9714 - accuracy: 0.4000 - val_loss: 0.4734 - val_accuracy: 0.8500\n",
      "Epoch 9/100\n",
      "3/3 [==============================] - 0s 31ms/step - loss: 0.4744 - accuracy: 0.8375 - val_loss: 0.5308 - val_accuracy: 0.6000\n",
      "Epoch 10/100\n",
      "3/3 [==============================] - 0s 30ms/step - loss: 0.4946 - accuracy: 0.7000 - val_loss: 0.4236 - val_accuracy: 0.7000\n",
      "Epoch 11/100\n",
      "3/3 [==============================] - 0s 30ms/step - loss: 0.4327 - accuracy: 0.8500 - val_loss: 0.3858 - val_accuracy: 0.8500\n",
      "Epoch 12/100\n",
      "3/3 [==============================] - 0s 33ms/step - loss: 0.4062 - accuracy: 0.9000 - val_loss: 0.3808 - val_accuracy: 0.9000\n",
      "Epoch 13/100\n",
      "3/3 [==============================] - 0s 38ms/step - loss: 0.3933 - accuracy: 0.8625 - val_loss: 0.3507 - val_accuracy: 0.9500\n",
      "Epoch 14/100\n",
      "3/3 [==============================] - 0s 40ms/step - loss: 0.4948 - accuracy: 0.7000 - val_loss: 0.9789 - val_accuracy: 0.4000\n",
      "Epoch 15/100\n",
      "3/3 [==============================] - 0s 31ms/step - loss: 0.9090 - accuracy: 0.5000 - val_loss: 0.3662 - val_accuracy: 0.9500\n",
      "Epoch 16/100\n",
      "3/3 [==============================] - 0s 30ms/step - loss: 0.4287 - accuracy: 0.8125 - val_loss: 0.3373 - val_accuracy: 0.9000\n",
      "Epoch 17/100\n",
      "3/3 [==============================] - 0s 30ms/step - loss: 0.3807 - accuracy: 0.9000 - val_loss: 0.6597 - val_accuracy: 0.6500\n",
      "Epoch 18/100\n",
      "3/3 [==============================] - 0s 31ms/step - loss: 0.4955 - accuracy: 0.7125 - val_loss: 0.3134 - val_accuracy: 0.9500\n",
      "Epoch 19/100\n",
      "3/3 [==============================] - 0s 34ms/step - loss: 0.4340 - accuracy: 0.7875 - val_loss: 0.3207 - val_accuracy: 0.9500\n",
      "Epoch 20/100\n",
      "3/3 [==============================] - 0s 33ms/step - loss: 0.3390 - accuracy: 0.9250 - val_loss: 0.2917 - val_accuracy: 0.9500\n",
      "Epoch 21/100\n",
      "3/3 [==============================] - 0s 32ms/step - loss: 0.3122 - accuracy: 0.9250 - val_loss: 0.2926 - val_accuracy: 0.9500\n",
      "Epoch 22/100\n",
      "3/3 [==============================] - 0s 29ms/step - loss: 0.3030 - accuracy: 0.9375 - val_loss: 0.2733 - val_accuracy: 0.9500\n",
      "Epoch 23/100\n",
      "3/3 [==============================] - 0s 31ms/step - loss: 0.2954 - accuracy: 0.9375 - val_loss: 0.3441 - val_accuracy: 0.8500\n",
      "Epoch 24/100\n",
      "3/3 [==============================] - 0s 31ms/step - loss: 0.3118 - accuracy: 0.8625 - val_loss: 0.4025 - val_accuracy: 0.6500\n",
      "Epoch 25/100\n",
      "3/3 [==============================] - 0s 30ms/step - loss: 0.3648 - accuracy: 0.8000 - val_loss: 0.2517 - val_accuracy: 1.0000\n",
      "Epoch 26/100\n",
      "3/3 [==============================] - 0s 30ms/step - loss: 0.2748 - accuracy: 0.9375 - val_loss: 0.2639 - val_accuracy: 0.9500\n",
      "Epoch 27/100\n",
      "3/3 [==============================] - 0s 30ms/step - loss: 0.3081 - accuracy: 0.8750 - val_loss: 0.5917 - val_accuracy: 0.6500\n",
      "Epoch 28/100\n",
      "3/3 [==============================] - 0s 31ms/step - loss: 0.7181 - accuracy: 0.6000 - val_loss: 0.2481 - val_accuracy: 1.0000\n",
      "Epoch 29/100\n",
      "3/3 [==============================] - 0s 30ms/step - loss: 0.3260 - accuracy: 0.8375 - val_loss: 0.2397 - val_accuracy: 1.0000\n",
      "Epoch 30/100\n",
      "3/3 [==============================] - 0s 36ms/step - loss: 0.2731 - accuracy: 0.9000 - val_loss: 0.4796 - val_accuracy: 0.6000\n",
      "Epoch 31/100\n",
      "3/3 [==============================] - 0s 30ms/step - loss: 0.3797 - accuracy: 0.7625 - val_loss: 0.2393 - val_accuracy: 0.9500\n",
      "Epoch 32/100\n",
      "3/3 [==============================] - 0s 30ms/step - loss: 0.2417 - accuracy: 0.9500 - val_loss: 0.2553 - val_accuracy: 0.9000\n",
      "Epoch 33/100\n",
      "3/3 [==============================] - 0s 30ms/step - loss: 0.3255 - accuracy: 0.8500 - val_loss: 0.2256 - val_accuracy: 1.0000\n",
      "Epoch 34/100\n",
      "3/3 [==============================] - 0s 30ms/step - loss: 0.2622 - accuracy: 0.9250 - val_loss: 0.3369 - val_accuracy: 0.8500\n",
      "Epoch 35/100\n",
      "3/3 [==============================] - 0s 30ms/step - loss: 0.4714 - accuracy: 0.7125 - val_loss: 0.2199 - val_accuracy: 1.0000\n",
      "Epoch 36/100\n",
      "3/3 [==============================] - 0s 29ms/step - loss: 0.2298 - accuracy: 0.9750 - val_loss: 0.2511 - val_accuracy: 0.9500\n",
      "Epoch 37/100\n",
      "3/3 [==============================] - 0s 30ms/step - loss: 0.3401 - accuracy: 0.8250 - val_loss: 0.4300 - val_accuracy: 0.8000\n",
      "Epoch 38/100\n",
      "3/3 [==============================] - 0s 30ms/step - loss: 0.2675 - accuracy: 0.9000 - val_loss: 0.2097 - val_accuracy: 0.9000\n",
      "Epoch 39/100\n",
      "3/3 [==============================] - 0s 29ms/step - loss: 0.2209 - accuracy: 0.9500 - val_loss: 0.2219 - val_accuracy: 0.9000\n",
      "Epoch 40/100\n",
      "3/3 [==============================] - 0s 30ms/step - loss: 0.2333 - accuracy: 0.9125 - val_loss: 0.1940 - val_accuracy: 0.9500\n",
      "Epoch 41/100\n",
      "3/3 [==============================] - 0s 35ms/step - loss: 0.2102 - accuracy: 0.9625 - val_loss: 0.4121 - val_accuracy: 0.6500\n",
      "Epoch 42/100\n",
      "3/3 [==============================] - 0s 86ms/step - loss: 0.3374 - accuracy: 0.8125 - val_loss: 0.3315 - val_accuracy: 0.9000\n",
      "Epoch 43/100\n",
      "3/3 [==============================] - 0s 56ms/step - loss: 0.3558 - accuracy: 0.8125 - val_loss: 0.2993 - val_accuracy: 0.8500\n",
      "Epoch 44/100\n",
      "3/3 [==============================] - 0s 49ms/step - loss: 0.2050 - accuracy: 0.9375 - val_loss: 0.1858 - val_accuracy: 1.0000\n",
      "Epoch 45/100\n",
      "3/3 [==============================] - 0s 42ms/step - loss: 0.2095 - accuracy: 0.9625 - val_loss: 0.2955 - val_accuracy: 0.8500\n",
      "Epoch 46/100\n",
      "3/3 [==============================] - 0s 44ms/step - loss: 0.2872 - accuracy: 0.8750 - val_loss: 0.2164 - val_accuracy: 0.9000\n",
      "Epoch 47/100\n",
      "3/3 [==============================] - 0s 38ms/step - loss: 0.2550 - accuracy: 0.9125 - val_loss: 0.1718 - val_accuracy: 1.0000\n",
      "Epoch 48/100\n",
      "3/3 [==============================] - 0s 50ms/step - loss: 0.1795 - accuracy: 0.9625 - val_loss: 0.2032 - val_accuracy: 0.9500\n",
      "Epoch 49/100\n",
      "3/3 [==============================] - 0s 33ms/step - loss: 0.2408 - accuracy: 0.9375 - val_loss: 0.2700 - val_accuracy: 0.9000\n",
      "Epoch 50/100\n",
      "3/3 [==============================] - 0s 36ms/step - loss: 0.2046 - accuracy: 0.9375 - val_loss: 0.2078 - val_accuracy: 0.9500\n",
      "Epoch 51/100\n",
      "3/3 [==============================] - 0s 31ms/step - loss: 0.1766 - accuracy: 0.9750 - val_loss: 0.1619 - val_accuracy: 1.0000\n",
      "Epoch 52/100\n",
      "3/3 [==============================] - 0s 36ms/step - loss: 0.1723 - accuracy: 0.9500 - val_loss: 0.1604 - val_accuracy: 1.0000\n",
      "Epoch 53/100\n",
      "3/3 [==============================] - 0s 35ms/step - loss: 0.1750 - accuracy: 0.9625 - val_loss: 0.2020 - val_accuracy: 0.9000\n",
      "Epoch 54/100\n",
      "3/3 [==============================] - 0s 32ms/step - loss: 0.3469 - accuracy: 0.8125 - val_loss: 0.1705 - val_accuracy: 1.0000\n",
      "Epoch 55/100\n",
      "3/3 [==============================] - 0s 30ms/step - loss: 0.1916 - accuracy: 0.9375 - val_loss: 0.1704 - val_accuracy: 1.0000\n",
      "Epoch 56/100\n",
      "3/3 [==============================] - 0s 30ms/step - loss: 0.1608 - accuracy: 0.9500 - val_loss: 0.1880 - val_accuracy: 0.9500\n",
      "Epoch 57/100\n",
      "3/3 [==============================] - 0s 28ms/step - loss: 0.1527 - accuracy: 0.9875 - val_loss: 0.1488 - val_accuracy: 1.0000\n",
      "Epoch 58/100\n",
      "3/3 [==============================] - 0s 28ms/step - loss: 0.1842 - accuracy: 0.9375 - val_loss: 0.1428 - val_accuracy: 1.0000\n",
      "Epoch 59/100\n"
     ]
    },
    {
     "name": "stdout",
     "output_type": "stream",
     "text": [
      "3/3 [==============================] - 0s 30ms/step - loss: 0.1571 - accuracy: 0.9250 - val_loss: 0.1448 - val_accuracy: 1.0000\n",
      "Epoch 60/100\n",
      "3/3 [==============================] - 0s 30ms/step - loss: 0.1766 - accuracy: 0.9500 - val_loss: 0.4596 - val_accuracy: 0.8000\n",
      "Epoch 61/100\n",
      "3/3 [==============================] - 0s 32ms/step - loss: 0.9052 - accuracy: 0.5750 - val_loss: 0.7437 - val_accuracy: 0.6000\n",
      "Epoch 62/100\n",
      "3/3 [==============================] - 0s 28ms/step - loss: 0.5987 - accuracy: 0.6625 - val_loss: 0.3713 - val_accuracy: 0.8500\n",
      "Epoch 63/100\n",
      "3/3 [==============================] - 0s 32ms/step - loss: 0.2905 - accuracy: 0.8750 - val_loss: 0.1732 - val_accuracy: 1.0000\n",
      "Epoch 64/100\n",
      "3/3 [==============================] - 0s 41ms/step - loss: 0.1553 - accuracy: 0.9750 - val_loss: 0.1481 - val_accuracy: 1.0000\n",
      "Epoch 65/100\n",
      "3/3 [==============================] - 0s 41ms/step - loss: 0.1478 - accuracy: 0.9750 - val_loss: 0.1512 - val_accuracy: 0.9000\n",
      "Epoch 66/100\n",
      "3/3 [==============================] - 0s 27ms/step - loss: 0.1651 - accuracy: 0.9750 - val_loss: 0.1443 - val_accuracy: 1.0000\n",
      "Epoch 67/100\n",
      "3/3 [==============================] - 0s 26ms/step - loss: 0.1385 - accuracy: 0.9750 - val_loss: 0.1407 - val_accuracy: 1.0000\n",
      "Epoch 68/100\n",
      "3/3 [==============================] - 0s 29ms/step - loss: 0.1326 - accuracy: 0.9875 - val_loss: 0.1351 - val_accuracy: 1.0000\n",
      "Epoch 69/100\n",
      "3/3 [==============================] - 0s 28ms/step - loss: 0.1519 - accuracy: 0.9750 - val_loss: 0.1342 - val_accuracy: 1.0000\n",
      "Epoch 70/100\n",
      "3/3 [==============================] - 0s 28ms/step - loss: 0.1443 - accuracy: 0.9500 - val_loss: 0.1468 - val_accuracy: 1.0000\n",
      "Epoch 71/100\n",
      "3/3 [==============================] - 0s 27ms/step - loss: 0.1730 - accuracy: 0.9500 - val_loss: 0.1328 - val_accuracy: 1.0000\n",
      "Epoch 72/100\n",
      "3/3 [==============================] - 0s 27ms/step - loss: 0.1279 - accuracy: 0.9875 - val_loss: 0.1770 - val_accuracy: 0.9500\n",
      "Epoch 73/100\n",
      "3/3 [==============================] - 0s 43ms/step - loss: 0.1380 - accuracy: 0.9500 - val_loss: 0.1254 - val_accuracy: 1.0000\n",
      "Epoch 74/100\n",
      "3/3 [==============================] - 0s 27ms/step - loss: 0.1308 - accuracy: 0.9750 - val_loss: 0.1251 - val_accuracy: 1.0000\n",
      "Epoch 75/100\n",
      "3/3 [==============================] - 0s 27ms/step - loss: 0.1208 - accuracy: 0.9875 - val_loss: 0.1630 - val_accuracy: 0.9500\n",
      "Epoch 76/100\n",
      "3/3 [==============================] - 0s 25ms/step - loss: 0.1139 - accuracy: 0.9625 - val_loss: 0.1194 - val_accuracy: 1.0000\n",
      "Epoch 77/100\n",
      "3/3 [==============================] - 0s 26ms/step - loss: 0.1191 - accuracy: 0.9875 - val_loss: 0.1336 - val_accuracy: 0.9000\n",
      "Epoch 78/100\n",
      "3/3 [==============================] - 0s 26ms/step - loss: 0.1517 - accuracy: 0.9500 - val_loss: 0.1212 - val_accuracy: 1.0000\n",
      "Epoch 79/100\n",
      "3/3 [==============================] - 0s 27ms/step - loss: 0.1253 - accuracy: 0.9625 - val_loss: 0.1147 - val_accuracy: 1.0000\n",
      "Epoch 80/100\n",
      "3/3 [==============================] - 0s 27ms/step - loss: 0.1146 - accuracy: 0.9625 - val_loss: 0.1403 - val_accuracy: 0.9000\n",
      "Epoch 81/100\n",
      "3/3 [==============================] - 0s 26ms/step - loss: 0.1246 - accuracy: 0.9750 - val_loss: 0.1144 - val_accuracy: 1.0000\n",
      "Epoch 82/100\n",
      "3/3 [==============================] - 0s 50ms/step - loss: 0.1283 - accuracy: 0.9500 - val_loss: 0.2409 - val_accuracy: 0.9000\n",
      "Epoch 83/100\n",
      "3/3 [==============================] - 0s 37ms/step - loss: 0.1383 - accuracy: 0.9375 - val_loss: 0.1207 - val_accuracy: 0.9500\n",
      "Epoch 84/100\n",
      "3/3 [==============================] - 0s 30ms/step - loss: 0.1474 - accuracy: 0.9375 - val_loss: 0.1422 - val_accuracy: 0.9500\n",
      "Epoch 85/100\n",
      "3/3 [==============================] - 0s 36ms/step - loss: 0.1070 - accuracy: 0.9875 - val_loss: 0.1818 - val_accuracy: 0.9500\n",
      "Epoch 86/100\n",
      "3/3 [==============================] - 0s 30ms/step - loss: 0.1541 - accuracy: 0.9375 - val_loss: 0.1320 - val_accuracy: 0.9000\n",
      "Epoch 87/100\n",
      "3/3 [==============================] - 0s 32ms/step - loss: 0.1151 - accuracy: 0.9750 - val_loss: 0.1910 - val_accuracy: 0.9000\n",
      "Epoch 88/100\n",
      "3/3 [==============================] - 0s 31ms/step - loss: 0.1146 - accuracy: 0.9750 - val_loss: 0.1071 - val_accuracy: 1.0000\n",
      "Epoch 89/100\n",
      "3/3 [==============================] - 0s 29ms/step - loss: 0.0935 - accuracy: 0.9875 - val_loss: 0.1215 - val_accuracy: 0.9000\n",
      "Epoch 90/100\n",
      "3/3 [==============================] - 0s 29ms/step - loss: 0.1046 - accuracy: 0.9750 - val_loss: 0.1050 - val_accuracy: 1.0000\n",
      "Epoch 91/100\n",
      "3/3 [==============================] - 0s 36ms/step - loss: 0.0984 - accuracy: 0.9875 - val_loss: 0.1504 - val_accuracy: 0.9000\n",
      "Epoch 92/100\n",
      "3/3 [==============================] - 0s 31ms/step - loss: 0.0943 - accuracy: 0.9875 - val_loss: 0.1067 - val_accuracy: 1.0000\n",
      "Epoch 93/100\n",
      "3/3 [==============================] - 0s 30ms/step - loss: 0.1158 - accuracy: 0.9875 - val_loss: 0.3967 - val_accuracy: 0.7000\n",
      "Epoch 94/100\n",
      "3/3 [==============================] - 0s 33ms/step - loss: 0.3887 - accuracy: 0.7750 - val_loss: 0.1034 - val_accuracy: 1.0000\n",
      "Epoch 95/100\n",
      "3/3 [==============================] - 0s 38ms/step - loss: 0.0888 - accuracy: 1.0000 - val_loss: 0.1030 - val_accuracy: 1.0000\n",
      "Epoch 96/100\n",
      "3/3 [==============================] - 0s 31ms/step - loss: 0.0945 - accuracy: 0.9750 - val_loss: 0.1000 - val_accuracy: 1.0000\n",
      "Epoch 97/100\n",
      "3/3 [==============================] - 0s 34ms/step - loss: 0.0903 - accuracy: 0.9875 - val_loss: 0.2396 - val_accuracy: 0.9000\n",
      "Epoch 98/100\n",
      "3/3 [==============================] - 0s 33ms/step - loss: 0.1406 - accuracy: 0.9500 - val_loss: 0.0987 - val_accuracy: 1.0000\n",
      "Epoch 99/100\n",
      "3/3 [==============================] - 0s 33ms/step - loss: 0.0787 - accuracy: 0.9875 - val_loss: 0.1025 - val_accuracy: 1.0000\n",
      "Epoch 100/100\n",
      "3/3 [==============================] - 0s 28ms/step - loss: 0.0811 - accuracy: 0.9875 - val_loss: 0.0999 - val_accuracy: 1.0000\n"
     ]
    }
   ],
   "source": [
    "H = model.fit(x_train, y_train, validation_data=(x_test, y_test), \n",
    "          epochs=max_epochs, batch_size=32)"
   ]
  },
  {
   "cell_type": "code",
   "execution_count": 16,
   "metadata": {},
   "outputs": [
    {
     "data": {
      "image/png": "[encoded data removed]",
      "text/plain": [
       "<Figure size 432x288 with 1 Axes>"
      ]
     },
     "metadata": {},
     "output_type": "display_data"
    }
   ],
   "source": [
    "N = np.arange(0, max_epochs)\n",
    "plt.style.use(\"ggplot\")\n",
    "plt.figure()\n",
    "plt.plot(N, H.history[\"loss\"], label=\"train_loss\")\n",
    "plt.plot(N, H.history[\"val_loss\"], label=\"val_loss\")\n",
    "#plt.plot(N, H.history[\"accuracy\"], label=\"train_acc\")\n",
    "#plt.plot(N, H.history[\"val_accuracy\"], label=\"val_acc\")\n",
    "plt.xlabel(\"Epoch #\")\n",
    "plt.legend()\n",
    "plt.show()"
   ]
  },
  {
   "cell_type": "code",
   "execution_count": 17,
   "metadata": {},
   "outputs": [
    {
     "name": "stdout",
     "output_type": "stream",
     "text": [
      "              precision    recall  f1-score   support\n",
      "\n",
      "      Nangka       1.00      1.00      1.00        12\n",
      "      Pepaya       1.00      1.00      1.00         8\n",
      "\n",
      "    accuracy                           1.00        20\n",
      "   macro avg       1.00      1.00      1.00        20\n",
      "weighted avg       1.00      1.00      1.00        20\n",
      "\n"
     ]
    }
   ],
   "source": [
    "# menghitung nilai akurasi model terhadap data test\n",
    "predictions = model.predict(x_test, batch_size=32)\n",
    "target = (predictions > 0.5).astype(np.int)\n",
    "print(classification_report(y_test, target, target_names=label_list))"
   ]
  },
  {
   "cell_type": "code",
   "execution_count": 39,
   "metadata": {},
   "outputs": [
    {
     "name": "stdout",
     "output_type": "stream",
     "text": [
      "[[0.22798729]]\n"
     ]
    }
   ],
   "source": [
    "# uji model menggunakan image lain\n",
    "queryPath = imagePaths+'query_nangka.jpg'\n",
    "query = cv2.imread(queryPath)\n",
    "output = query.copy()\n",
    "query = cv2.resize(query, (32, 32))\n",
    "q = []\n",
    "q.append(query)\n",
    "q = np.array(q, dtype='float') / 255.0\n",
    "\n",
    "q_pred = model.predict(q)\n",
    "print(q_pred)"
   ]
  },
  {
   "cell_type": "code",
   "execution_count": 40,
   "metadata": {},
   "outputs": [
    {
     "ename": "error",
     "evalue": "OpenCV(4.5.4-dev) D:\\a\\opencv-python\\opencv-python\\opencv\\modules\\highgui\\src\\window_w32.cpp:1261: error: (-27:Null pointer) NULL window: 'Output' in function 'cvDestroyWindow'\n",
     "output_type": "error",
     "traceback": [
      "\u001b[1;31m---------------------------------------------------------------------------\u001b[0m",
      "\u001b[1;31merror\u001b[0m                                     Traceback (most recent call last)",
      "\u001b[1;32m~\\AppData\\Local\\Temp/ipykernel_17088/3151627741.py\u001b[0m in \u001b[0;36m<module>\u001b[1;34m\u001b[0m\n\u001b[0;32m      9\u001b[0m \u001b[0mcv2\u001b[0m\u001b[1;33m.\u001b[0m\u001b[0mimshow\u001b[0m\u001b[1;33m(\u001b[0m\u001b[1;34m'Output'\u001b[0m\u001b[1;33m,\u001b[0m \u001b[0moutput\u001b[0m\u001b[1;33m)\u001b[0m\u001b[1;33m\u001b[0m\u001b[1;33m\u001b[0m\u001b[0m\n\u001b[0;32m     10\u001b[0m \u001b[0mcv2\u001b[0m\u001b[1;33m.\u001b[0m\u001b[0mwaitKey\u001b[0m\u001b[1;33m(\u001b[0m\u001b[1;33m)\u001b[0m \u001b[1;31m# image tidak akan diclose,sebelum user menekan sembarang tombol\u001b[0m\u001b[1;33m\u001b[0m\u001b[1;33m\u001b[0m\u001b[0m\n\u001b[1;32m---> 11\u001b[1;33m \u001b[0mcv2\u001b[0m\u001b[1;33m.\u001b[0m\u001b[0mdestroyWindow\u001b[0m\u001b[1;33m(\u001b[0m\u001b[1;34m'Output'\u001b[0m\u001b[1;33m)\u001b[0m \u001b[1;31m# image akan diclose\u001b[0m\u001b[1;33m\u001b[0m\u001b[1;33m\u001b[0m\u001b[0m\n\u001b[0m",
      "\u001b[1;31merror\u001b[0m: OpenCV(4.5.4-dev) D:\\a\\opencv-python\\opencv-python\\opencv\\modules\\highgui\\src\\window_w32.cpp:1261: error: (-27:Null pointer) NULL window: 'Output' in function 'cvDestroyWindow'\n"
     ]
    }
   ],
   "source": [
    "if q_pred<=0.5 :\n",
    "    target = \"Pepaya\"\n",
    "else :\n",
    "    target = \"Nangka\"\n",
    "text = \"{}\".format(target)\n",
    "cv2.putText(output, text, (10, 30), cv2.FONT_HERSHEY_SIMPLEX, 0.7, (0, 0, 255), 2)\n",
    " \n",
    "# menampilkan output image\n",
    "cv2.imshow('Output', output)\n",
    "cv2.waitKey() # image tidak akan diclose,sebelum user menekan sembarang tombol\n",
    "cv2.destroyWindow('Output') # image akan diclose"
   ]
  },
  {
   "cell_type": "code",
   "execution_count": null,
   "metadata": {},
   "outputs": [],
   "source": []
  },
  {
   "cell_type": "code",
   "execution_count": null,
   "metadata": {},
   "outputs": [],
   "source": []
  }
 ],
 "metadata": {
  "interpreter": {
   "hash": "ac59ebe37160ed0dfa835113d9b8498d9f09ceb179beaac4002f036b9467c963"
  },
  "kernelspec": {
   "display_name": "Python 3 (ipykernel)",
   "language": "python",
   "name": "python3"
  },
  "language_info": {
   "codemirror_mode": {
    "name": "ipython",
    "version": 3
   },
   "file_extension": ".py",
   "mimetype": "text/x-python",
   "name": "python",
   "nbconvert_exporter": "python",
   "pygments_lexer": "ipython3",
   "version": "3.9.0"
  }
 },
 "nbformat": 4,
 "nbformat_minor": 2
}
