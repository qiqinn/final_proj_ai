{
 "cells": [
  {
   "cell_type": "code",
   "execution_count": 1,
   "metadata": {},
   "outputs": [],
   "source": [
    "import cv2\n",
    "import numpy as np\n",
    "import glob"
   ]
  },
  {
   "cell_type": "code",
   "execution_count": null,
   "metadata": {},
   "outputs": [],
   "source": [
    "# Pythono3 code to rename multiple\n",
    "# files in a directory or folder\n",
    "\n",
    "# importing os module\n",
    "import os\n",
    "\n",
    "# Function to rename multiple files\n",
    "def main():\n",
    "\n",
    "\tfolder = \"Dataset/Nangka\"\n",
    "\tfor count, filename in enumerate(os.listdir(folder)):\n",
    "\t\tdst = f\"0{str(count)}.jpg\"\n",
    "\t\tsrc =f\"{folder}/{filename}\" # foldername/filename, if .py file is outside folder\n",
    "\t\tdst =f\"{folder}/{dst}\"\n",
    "\t\t\n",
    "\t\t# rename() function will\n",
    "\t\t# rename all the files\n",
    "\t\tos.rename(src, dst)\n",
    "\n",
    "# Driver Code\n",
    "if __name__ == '__main__':\n",
    "\t\n",
    "\t# Calling main() function\n",
    "\tmain()\n"
   ]
  },
  {
   "cell_type": "code",
   "execution_count": null,
   "metadata": {},
   "outputs": [],
   "source": [
    "\n",
    "from PIL import Image\n",
    "import os\n",
    " \n",
    "print(\"Shrink images in the folder\")\n",
    "folder = \"Dataset/Nangka\"\n",
    "w = 1600\n",
    "h = 1200\n",
    "for i in os.listdir(folder):\n",
    "    file = f\"{folder}\\\\{i}\"\n",
    "    im = Image.open(file)\n",
    "    im = im.resize((w, h), Image.ANTIALIAS)\n",
    "    im.save(file)"
   ]
  },
  {
   "cell_type": "code",
   "execution_count": 2,
   "metadata": {},
   "outputs": [],
   "source": [
    "# # Membaca Image\n",
    "image = cv2.imread(\"Dataset/Nangka/001.jpg\")\n",
    "# # print(image)\n",
    "# print(image.shape)\n",
    "#\n",
    "# # cv2.imshow(\"001\", image)\n",
    "#\n",
    "# # resize image (ignore aspect ratio)\n",
    "im_resized = cv2.resize(image, (400,400))\n",
    "# # cv2.imshow('im_resized',im_resized)\n",
    "#\n",
    "# # # adjust image contrast\n",
    "# im_adjusted = cv2.addWeighted(im_resized, 1.5, np.zeros(im_resized.shape, im_resized.dtype), 0, -100)\n",
    "# cv2.imshow('im_adjusted', im_adjusted)\n",
    "#\n",
    "# #\n",
    "# # # convert image to grayscale\\n\",\n",
    "# # im_gray = cv2.cvtColor(im_resized, cv2.COLOR_BGR2GRAY),\n",
    "# # cv2.imshow('Original Image',im_resized)\n",
    "# # cv2.imshow('Grayscale Image',im_gray)\n",
    "#\n",
    "# # detect edges\n",
    "# im_edges = cv2.Canny(im_resized, 100, 200)\n",
    "#\n",
    "# cv2.imshow(\"Original Image\", im_resized)\n",
    "# cv2.imshow(\"Detected Edges\", im_edges)"
   ]
  },
  {
   "cell_type": "code",
   "execution_count": 3,
   "metadata": {},
   "outputs": [],
   "source": [
    "imdir = 'Dataset/Nangka/'\n",
    "ext = ['jpg']\n",
    "\n",
    "files = []\n",
    "[files.extend(glob.glob(imdir + '*.' + e)) for e in ext]\n",
    "\n",
    "images = [cv2.imread(file) for file in files]\n",
    "\n",
    "i = 1\n",
    "for img in images:\n",
    "    im_adjusted = cv2.addWeighted(img, 2.5, np.zeros(img.shape, img.dtype), 0, -100)\n",
    "    im_edges = cv2.Canny(im_adjusted, 100, 200)\n",
    "    im_name = \"Dataset/nangka_edges_test/\" + str(i) + \".jpg\"\n",
    "    cv2.imwrite(im_name, im_edges)\n",
    "    i += 1"
   ]
  }
 ],
 "metadata": {
  "interpreter": {
   "hash": "ac59ebe37160ed0dfa835113d9b8498d9f09ceb179beaac4002f036b9467c963"
  },
  "kernelspec": {
   "display_name": "Python 3.9.0 64-bit",
   "language": "python",
   "name": "python3"
  },
  "language_info": {
   "codemirror_mode": {
    "name": "ipython",
    "version": 3
   },
   "file_extension": ".py",
   "mimetype": "text/x-python",
   "name": "python",
   "nbconvert_exporter": "python",
   "pygments_lexer": "ipython3",
   "version": "3.9.0"
  },
  "orig_nbformat": 4
 },
 "nbformat": 4,
 "nbformat_minor": 2
}
