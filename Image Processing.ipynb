{
 "cells": [
  {
   "cell_type": "code",
   "execution_count": null,
   "metadata": {},
   "outputs": [],
   "source": [
    "import cv2\n",
    "import numpy as np\n",
    "import glob"
   ]
  },
  {
   "cell_type": "code",
   "execution_count": null,
   "metadata": {},
   "outputs": [],
   "source": [
    "# # Membaca Image\n",
    "image = cv2.imread(\"Dataset/Nangka/001.jpg\")\n",
    "# # print(image)\n",
    "# print(image.shape)\n",
    "#\n",
    "# # cv2.imshow(\"001\", image)\n",
    "#\n",
    "# # resize image (ignore aspect ratio)\n",
    "im_resized = cv2.resize(image, (400,400))\n",
    "# # cv2.imshow('im_resized',im_resized)\n",
    "#\n",
    "# # # adjust image contrast\n",
    "# im_adjusted = cv2.addWeighted(im_resized, 1.5, np.zeros(im_resized.shape, im_resized.dtype), 0, -100)\n",
    "# cv2.imshow('im_adjusted', im_adjusted)\n",
    "#\n",
    "# #\n",
    "# # # convert image to grayscale\\n\",\n",
    "# # im_gray = cv2.cvtColor(im_resized, cv2.COLOR_BGR2GRAY),\n",
    "# # cv2.imshow('Original Image',im_resized)\n",
    "# # cv2.imshow('Grayscale Image',im_gray)\n",
    "#\n",
    "# # detect edges\n",
    "# im_edges = cv2.Canny(im_resized, 100, 200)\n",
    "#\n",
    "# cv2.imshow(\"Original Image\", im_resized)\n",
    "# cv2.imshow(\"Detected Edges\", im_edges)"
   ]
  },
  {
   "cell_type": "code",
   "execution_count": null,
   "metadata": {},
   "outputs": [],
   "source": [
    "imdir = 'Dataset/Nangka/'\n",
    "ext = ['jpg']\n",
    "\n",
    "files = []\n",
    "[files.extend(glob.glob(imdir + '*.' + e)) for e in ext]\n",
    "\n",
    "images = [cv2.imread(file) for file in files]\n",
    "\n",
    "i = 1\n",
    "for img in images:\n",
    "    im_adjusted = cv2.addWeighted(img, 2.5, np.zeros(img.shape, img.dtype), 0, -100)\n",
    "    im_edges = cv2.Canny(im_adjusted, 100, 200)\n",
    "    im_name = \"Dataset/nangka_edges_test/\" + str(i) + \".jpg\"\n",
    "    cv2.imwrite(im_name, im_edges)\n",
    "    i += 1"
   ]
  }
 ],
 "metadata": {
  "language_info": {
   "name": "python"
  },
  "orig_nbformat": 4
 },
 "nbformat": 4,
 "nbformat_minor": 2
}
